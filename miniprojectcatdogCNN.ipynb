{
 "cells": [
  {
   "cell_type": "code",
   "execution_count": 1,
   "metadata": {},
   "outputs": [
    {
     "name": "stderr",
     "output_type": "stream",
     "text": [
      "Using TensorFlow backend.\n"
     ]
    }
   ],
   "source": [
    "#step1.libraries import\n",
    "from keras.models import Sequential#cnn also follow sequence format one after another\n",
    "from keras.layers import Dense#to add hidden output layer\n",
    "from keras.layers import Convolution2D#adding covolution layer\n",
    "from keras.layers import MaxPooling2D#adding nmax pooling layer\n",
    "from keras.layers import Flatten"
   ]
  },
  {
   "cell_type": "code",
   "execution_count": 2,
   "metadata": {},
   "outputs": [],
   "source": [
    "#step 2 preprocessing\n",
    "from keras.preprocessing.image import ImageDataGenerator\n",
    "#2 variables\n",
    "train_datagen=ImageDataGenerator(rescale=1./255,shear_range=0.2,zoom_range=0.2,horizontal_flip=True)\n",
    "#scaled the pixel value of images of range o0 to 255 to get exact\n",
    "\n",
    "test_datagen=ImageDataGenerator(rescale=1./255)\n",
    "\n"
   ]
  },
  {
   "cell_type": "code",
   "execution_count": 3,
   "metadata": {},
   "outputs": [
    {
     "name": "stdout",
     "output_type": "stream",
     "text": [
      "Found 8005 images belonging to 2 classes.\n",
      "Found 2023 images belonging to 2 classes.\n"
     ]
    }
   ],
   "source": [
    "x_train=train_datagen.flow_from_directory(r'C:\\Users\\user\\Downloads\\miniprojectanimalsCNN\\training_set',target_size=(64,64),batch_size=32,class_mode='categorical')\n",
    "\n",
    "x_test=test_datagen.flow_from_directory(r'C:\\Users\\user\\Downloads\\miniprojectanimalsCNN\\test_set',target_size=(64,64),batch_size=32,class_mode='categorical')\n",
    "\n",
    "\n"
   ]
  },
  {
   "cell_type": "code",
   "execution_count": 4,
   "metadata": {},
   "outputs": [
    {
     "name": "stdout",
     "output_type": "stream",
     "text": [
      "{'cats': 0, 'dogs': 1}\n"
     ]
    }
   ],
   "source": [
    "print(x_train.class_indices)"
   ]
  },
  {
   "cell_type": "code",
   "execution_count": 5,
   "metadata": {},
   "outputs": [
    {
     "name": "stdout",
     "output_type": "stream",
     "text": [
      "WARNING:tensorflow:From C:\\Users\\user\\Anaconda3\\lib\\site-packages\\keras\\backend\\tensorflow_backend.py:74: The name tf.get_default_graph is deprecated. Please use tf.compat.v1.get_default_graph instead.\n",
      "\n"
     ]
    }
   ],
   "source": [
    "model=Sequential()"
   ]
  },
  {
   "cell_type": "code",
   "execution_count": 6,
   "metadata": {},
   "outputs": [
    {
     "name": "stdout",
     "output_type": "stream",
     "text": [
      "WARNING:tensorflow:From C:\\Users\\user\\Anaconda3\\lib\\site-packages\\keras\\backend\\tensorflow_backend.py:517: The name tf.placeholder is deprecated. Please use tf.compat.v1.placeholder instead.\n",
      "\n",
      "WARNING:tensorflow:From C:\\Users\\user\\Anaconda3\\lib\\site-packages\\keras\\backend\\tensorflow_backend.py:4138: The name tf.random_uniform is deprecated. Please use tf.random.uniform instead.\n",
      "\n"
     ]
    }
   ],
   "source": [
    "#step 5 add convolution\n",
    "model.add(Convolution2D(32,(3,3),input_shape=(64,64,3),activation='relu'))\n",
    "model.add(Convolution2D(32,(3,3),input_shape=(64,64,3),activation='relu'))\n"
   ]
  },
  {
   "cell_type": "code",
   "execution_count": 7,
   "metadata": {},
   "outputs": [
    {
     "name": "stdout",
     "output_type": "stream",
     "text": [
      "WARNING:tensorflow:From C:\\Users\\user\\Anaconda3\\lib\\site-packages\\keras\\backend\\tensorflow_backend.py:3976: The name tf.nn.max_pool is deprecated. Please use tf.nn.max_pool2d instead.\n",
      "\n"
     ]
    }
   ],
   "source": [
    "model.add(MaxPooling2D(pool_size=(2,2)))"
   ]
  },
  {
   "cell_type": "code",
   "execution_count": 8,
   "metadata": {},
   "outputs": [],
   "source": [
    "model.add(Flatten())#input layer of ANN"
   ]
  },
  {
   "cell_type": "code",
   "execution_count": 9,
   "metadata": {},
   "outputs": [
    {
     "name": "stderr",
     "output_type": "stream",
     "text": [
      "C:\\Users\\user\\Anaconda3\\lib\\site-packages\\ipykernel_launcher.py:2: UserWarning: Update your `Dense` call to the Keras 2 API: `Dense(units=128, activation=\"relu\", kernel_initializer=\"random_uniform\")`\n",
      "  \n"
     ]
    }
   ],
   "source": [
    "#hidden layer\n",
    "model.add(Dense(units=128,init='random_uniform',activation='relu'))"
   ]
  },
  {
   "cell_type": "code",
   "execution_count": 10,
   "metadata": {},
   "outputs": [
    {
     "name": "stderr",
     "output_type": "stream",
     "text": [
      "C:\\Users\\user\\Anaconda3\\lib\\site-packages\\ipykernel_launcher.py:1: UserWarning: Update your `Dense` call to the Keras 2 API: `Dense(units=2, activation=\"softmax\", kernel_initializer=\"random_uniform\")`\n",
      "  \"\"\"Entry point for launching an IPython kernel.\n"
     ]
    }
   ],
   "source": [
    "model.add(Dense(units =2,init = \"random_uniform\",activation = \"softmax\")) #output layer\n"
   ]
  },
  {
   "cell_type": "code",
   "execution_count": 11,
   "metadata": {},
   "outputs": [
    {
     "name": "stdout",
     "output_type": "stream",
     "text": [
      "WARNING:tensorflow:From C:\\Users\\user\\Anaconda3\\lib\\site-packages\\keras\\optimizers.py:790: The name tf.train.Optimizer is deprecated. Please use tf.compat.v1.train.Optimizer instead.\n",
      "\n",
      "WARNING:tensorflow:From C:\\Users\\user\\Anaconda3\\lib\\site-packages\\keras\\backend\\tensorflow_backend.py:3295: The name tf.log is deprecated. Please use tf.math.log instead.\n",
      "\n"
     ]
    }
   ],
   "source": [
    "model.compile(loss=\"categorical_crossentropy\",optimizer='adam',metrics=['accuracy'])"
   ]
  },
  {
   "cell_type": "code",
   "execution_count": 12,
   "metadata": {},
   "outputs": [
    {
     "name": "stdout",
     "output_type": "stream",
     "text": [
      "WARNING:tensorflow:From C:\\Users\\user\\Anaconda3\\lib\\site-packages\\tensorflow\\python\\ops\\math_grad.py:1250: add_dispatch_support.<locals>.wrapper (from tensorflow.python.ops.array_ops) is deprecated and will be removed in a future version.\n",
      "Instructions for updating:\n",
      "Use tf.where in 2.0, which has the same broadcast rule as np.where\n",
      "WARNING:tensorflow:From C:\\Users\\user\\Anaconda3\\lib\\site-packages\\keras\\backend\\tensorflow_backend.py:986: The name tf.assign_add is deprecated. Please use tf.compat.v1.assign_add instead.\n",
      "\n",
      "Epoch 1/30\n",
      "250/250 [==============================] - 275s 1s/step - loss: 0.6843 - acc: 0.5456 - val_loss: 0.6570 - val_acc: 0.6220\n",
      "Epoch 2/30\n",
      "250/250 [==============================] - 77s 309ms/step - loss: 0.6262 - acc: 0.6508 - val_loss: 0.5973 - val_acc: 0.6755\n",
      "Epoch 3/30\n",
      "250/250 [==============================] - 54s 218ms/step - loss: 0.5822 - acc: 0.6891 - val_loss: 0.5668 - val_acc: 0.7187\n",
      "Epoch 4/30\n",
      "250/250 [==============================] - 195s 781ms/step - loss: 0.5420 - acc: 0.7239 - val_loss: 0.5528 - val_acc: 0.7217\n",
      "Epoch 5/30\n",
      "250/250 [==============================] - 190s 760ms/step - loss: 0.5192 - acc: 0.7385 - val_loss: 0.5252 - val_acc: 0.7393\n",
      "Epoch 6/30\n",
      "250/250 [==============================] - 61s 242ms/step - loss: 0.4959 - acc: 0.7559 - val_loss: 0.5024 - val_acc: 0.7569\n",
      "Epoch 7/30\n",
      "250/250 [==============================] - 53s 213ms/step - loss: 0.4737 - acc: 0.7691 - val_loss: 0.5817 - val_acc: 0.7333\n",
      "Epoch 8/30\n",
      "250/250 [==============================] - 54s 216ms/step - loss: 0.4605 - acc: 0.7824 - val_loss: 0.4639 - val_acc: 0.7885\n",
      "Epoch 9/30\n",
      "250/250 [==============================] - 54s 216ms/step - loss: 0.4505 - acc: 0.7892 - val_loss: 0.5082 - val_acc: 0.7770\n",
      "Epoch 10/30\n",
      "250/250 [==============================] - 54s 217ms/step - loss: 0.4431 - acc: 0.7899 - val_loss: 0.4728 - val_acc: 0.7951\n",
      "Epoch 11/30\n",
      "250/250 [==============================] - 54s 215ms/step - loss: 0.4327 - acc: 0.7979 - val_loss: 0.4809 - val_acc: 0.7911\n",
      "Epoch 12/30\n",
      "250/250 [==============================] - 54s 215ms/step - loss: 0.4202 - acc: 0.8105 - val_loss: 0.4735 - val_acc: 0.7835\n",
      "Epoch 13/30\n",
      "250/250 [==============================] - 54s 217ms/step - loss: 0.4076 - acc: 0.8100 - val_loss: 0.4727 - val_acc: 0.7966\n",
      "Epoch 14/30\n",
      "250/250 [==============================] - 54s 215ms/step - loss: 0.4090 - acc: 0.8131 - val_loss: 0.4790 - val_acc: 0.7926\n",
      "Epoch 15/30\n",
      "250/250 [==============================] - 54s 216ms/step - loss: 0.3919 - acc: 0.8197 - val_loss: 0.5061 - val_acc: 0.7790\n",
      "Epoch 16/30\n",
      "250/250 [==============================] - 54s 215ms/step - loss: 0.3784 - acc: 0.8265 - val_loss: 0.5346 - val_acc: 0.7740\n",
      "Epoch 17/30\n",
      "250/250 [==============================] - 54s 216ms/step - loss: 0.3769 - acc: 0.8305 - val_loss: 0.6216 - val_acc: 0.7459\n",
      "Epoch 18/30\n",
      "250/250 [==============================] - 54s 214ms/step - loss: 0.3654 - acc: 0.8371 - val_loss: 0.4971 - val_acc: 0.7891\n",
      "Epoch 19/30\n",
      "250/250 [==============================] - 54s 215ms/step - loss: 0.3536 - acc: 0.8427 - val_loss: 0.4744 - val_acc: 0.7976\n",
      "Epoch 20/30\n",
      "250/250 [==============================] - 54s 215ms/step - loss: 0.3389 - acc: 0.8483 - val_loss: 0.5427 - val_acc: 0.7885\n",
      "Epoch 21/30\n",
      "250/250 [==============================] - 54s 216ms/step - loss: 0.3363 - acc: 0.8501 - val_loss: 0.4818 - val_acc: 0.7966\n",
      "Epoch 22/30\n",
      "250/250 [==============================] - 55s 222ms/step - loss: 0.3230 - acc: 0.8578 - val_loss: 0.4769 - val_acc: 0.7931\n",
      "Epoch 23/30\n",
      "250/250 [==============================] - 54s 218ms/step - loss: 0.3186 - acc: 0.8605 - val_loss: 0.4741 - val_acc: 0.7891\n",
      "Epoch 24/30\n",
      "250/250 [==============================] - 54s 217ms/step - loss: 0.3125 - acc: 0.8625 - val_loss: 0.5179 - val_acc: 0.7921\n",
      "Epoch 25/30\n",
      "250/250 [==============================] - 54s 216ms/step - loss: 0.3065 - acc: 0.8662 - val_loss: 0.4697 - val_acc: 0.8162\n",
      "Epoch 26/30\n",
      "250/250 [==============================] - 57s 228ms/step - loss: 0.3011 - acc: 0.8703 - val_loss: 0.5466 - val_acc: 0.7795\n",
      "Epoch 27/30\n",
      "250/250 [==============================] - 376s 2s/step - loss: 0.2854 - acc: 0.8754 - val_loss: 0.5590 - val_acc: 0.7715\n",
      "Epoch 28/30\n",
      "250/250 [==============================] - 177s 707ms/step - loss: 0.2873 - acc: 0.8756 - val_loss: 0.5121 - val_acc: 0.8006\n",
      "Epoch 29/30\n",
      "250/250 [==============================] - 252s 1s/step - loss: 0.2841 - acc: 0.8730 - val_loss: 0.5360 - val_acc: 0.8001\n",
      "Epoch 30/30\n",
      "250/250 [==============================] - 304s 1s/step - loss: 0.2670 - acc: 0.8895 - val_loss: 0.5417 - val_acc: 0.8001\n"
     ]
    },
    {
     "data": {
      "text/plain": [
       "<keras.callbacks.History at 0x2ce125fe388>"
      ]
     },
     "execution_count": 12,
     "metadata": {},
     "output_type": "execute_result"
    }
   ],
   "source": [
    "model.fit_generator(x_train , steps_per_epoch =250 , epochs = 30, validation_data = x_test, validation_steps =63)\n"
   ]
  },
  {
   "cell_type": "code",
   "execution_count": 13,
   "metadata": {},
   "outputs": [],
   "source": [
    "model.save(\"catordog.h5\")\n"
   ]
  }
 ],
 "metadata": {
  "kernelspec": {
   "display_name": "Python 3",
   "language": "python",
   "name": "python3"
  },
  "language_info": {
   "codemirror_mode": {
    "name": "ipython",
    "version": 3
   },
   "file_extension": ".py",
   "mimetype": "text/x-python",
   "name": "python",
   "nbconvert_exporter": "python",
   "pygments_lexer": "ipython3",
   "version": "3.7.4"
  }
 },
 "nbformat": 4,
 "nbformat_minor": 2
}
