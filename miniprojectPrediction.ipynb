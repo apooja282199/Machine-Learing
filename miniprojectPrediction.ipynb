{
 "cells": [
  {
   "cell_type": "code",
   "execution_count": 3,
   "metadata": {},
   "outputs": [],
   "source": [
    "from keras.models import load_model\n",
    "from keras.preprocessing import image\n",
    "import numpy as np \n",
    "import matplotlib.pyplot as plt\n",
    "import cv2"
   ]
  },
  {
   "cell_type": "code",
   "execution_count": 4,
   "metadata": {},
   "outputs": [],
   "source": [
    "model = load_model(r\"C:\\Users\\user\\catordog.h5\")"
   ]
  },
  {
   "cell_type": "raw",
   "metadata": {},
   "source": [
    "\n",
    "img1 = image.load_img(r\"C:\\Users\\user\\Downloads\\miniprojectanimalsCNN\\cat1.jpg\",target_size= (64,64))\n",
    "img2 = image.load_img(r\"C:\\Users\\user\\Downloads\\miniprojectanimalsCNN\\dog2.jpg\",target_size= (64,64))\n",
    "img3 = image.load_img(r\"C:\\Users\\user\\Downloads\\miniprojectanimalsCNN\\dog1.jpg\",target_size= (64,64))\n",
    "img4 = image.load_img(r\"C:\\Users\\user\\Downloads\\miniprojectanimalsCNN\\dog.jpg\",target_size= (64,64))\n",
    "img5 = image.load_img(r\"C:\\Users\\user\\Downloads\\miniprojectanimalsCNN\\cat2.jpg\",target_size= (64,64))\n",
    "img6 = image.load_img(r\"C:\\Users\\user\\Downloads\\miniprojectanimalsCNN\\cat3.jpg\",target_size= (64,64))\n",
    "img7 = image.load_img(r\"C:\\Users\\user\\Downloads\\miniprojectanimalsCNN\\cat5.jpg\",target_size= (64,64))\n",
    "img8 = image.load_img(r\"C:\\Users\\user\\Downloads\\miniprojectanimalsCNN\\dog3.jpg\",target_size= (64,64))"
   ]
  },
  {
   "cell_type": "raw",
   "metadata": {},
   "source": [
    "\n",
    "x1 = image.img_to_array(img1)\n",
    "x1 = np.expand_dims(x1,axis = 0)\n",
    "x2 = image.img_to_array(img2)\n",
    "x2 = np.expand_dims(x2,axis = 0)\n",
    "x3 = image.img_to_array(img3)\n",
    "x3 = np.expand_dims(x3,axis = 0)\n",
    "x4 = image.img_to_array(img4)\n",
    "x4 = np.expand_dims(x4,axis = 0)\n",
    "x5 = image.img_to_array(img5)\n",
    "x5 = np.expand_dims(x5,axis = 0)\n",
    "x6 = image.img_to_array(img6)\n",
    "x6 = np.expand_dims(x6,axis = 0)\n",
    "x7 = image.img_to_array(img7)\n",
    "x7 = np.expand_dims(x7,axis = 0)\n",
    "x8 = image.img_to_array(img8)\n",
    "x8 = np.expand_dims(x8,axis = 0)\n"
   ]
  },
  {
   "cell_type": "raw",
   "metadata": {},
   "source": [
    "x1.shape"
   ]
  },
  {
   "cell_type": "raw",
   "metadata": {},
   "source": [
    "x2.shape\n"
   ]
  },
  {
   "cell_type": "raw",
   "metadata": {},
   "source": [
    "pred1= model.predict_classes(x1)\n",
    "pred2= model.predict_classes(x2)\n",
    "pred3= model.predict_classes(x3)\n",
    "pred4= model.predict_classes(x4)\n",
    "pred5= model.predict_classes(x5)\n",
    "pred6= model.predict_classes(x6)\n",
    "pred7= model.predict_classes(x7)\n",
    "pred8= model.predict_classes(x8)"
   ]
  },
  {
   "cell_type": "raw",
   "metadata": {},
   "source": [
    "pred1.shape"
   ]
  },
  {
   "cell_type": "raw",
   "metadata": {},
   "source": [
    "pred2"
   ]
  },
  {
   "cell_type": "raw",
   "metadata": {},
   "source": [
    "plt.imshow(img1)\n",
    "if(pred1==0):\n",
    "    print(\"its a cat\")\n",
    "elif(pred1==1):\n",
    "    print(\"its dog\")"
   ]
  },
  {
   "cell_type": "raw",
   "metadata": {},
   "source": [
    "plt.imshow(img2)\n",
    "if(pred2==0):\n",
    "    print(\"its a cat\")\n",
    "elif(pred2==1):\n",
    "    print(\"its dog\")"
   ]
  },
  {
   "cell_type": "raw",
   "metadata": {},
   "source": [
    "plt.imshow(img3)\n",
    "if(pred3==0):\n",
    "    print(\"its a cat\")\n",
    "elif(pred3==1):\n",
    "    print(\"its dog\")"
   ]
  },
  {
   "cell_type": "markdown",
   "metadata": {},
   "source": [
    "plt.imshow(img4)\n",
    "if(pred4==0):\n",
    "    print(\"its a cat\")\n",
    "elif(pred4==1):\n",
    "    print(\"its dog\")"
   ]
  },
  {
   "cell_type": "raw",
   "metadata": {},
   "source": [
    "plt.imshow(img5)\n",
    "if(pred5==0):\n",
    "    print(\"its a cat\")\n",
    "elif(pred5==1):\n",
    "    print(\"its dog\")"
   ]
  },
  {
   "cell_type": "raw",
   "metadata": {},
   "source": [
    "plt.imshow(img6)\n",
    "if(pred6==0):\n",
    "    print(\"its a cat\")\n",
    "elif(pred6==1):\n",
    "    print(\"its dog\")"
   ]
  },
  {
   "cell_type": "raw",
   "metadata": {},
   "source": [
    "plt.imshow(img7)\n",
    "if(pred7==0):\n",
    "    print(\"its a cat\")\n",
    "elif(pred7==1):\n",
    "    print(\"its dog\")"
   ]
  },
  {
   "cell_type": "raw",
   "metadata": {},
   "source": [
    "plt.imshow(img8)\n",
    "if(pred8==0):\n",
    "    print(\"its a cat\")\n",
    "elif(pred8==1):\n",
    "    print(\"its dog\")"
   ]
  },
  {
   "cell_type": "code",
   "execution_count": 21,
   "metadata": {},
   "outputs": [],
   "source": [
    "video=cv2.VideoCapture(0)\n",
    "name=[\"cat\",\"dog\"]"
   ]
  },
  {
   "cell_type": "code",
   "execution_count": 22,
   "metadata": {},
   "outputs": [
    {
     "name": "stdout",
     "output_type": "stream",
     "text": [
      "[0]\n"
     ]
    },
    {
     "data": {
      "text/plain": [
       "<function destroyAllWindows>"
      ]
     },
     "execution_count": 22,
     "metadata": {},
     "output_type": "execute_result"
    }
   ],
   "source": [
    "while(1):\n",
    "    success,frame=video.read()\n",
    "    cv2.imwrite(\"image.jpg\",frame)\n",
    "    img = image.load_img(\"image.jpg\",target_size= (64,64))\n",
    "    x = image.img_to_array(img)\n",
    "    x = np.expand_dims(x,axis = 0)\n",
    "    pred = model.predict_classes(x)\n",
    "    p=pred[0]\n",
    "    print(pred)\n",
    "    cv2.putText(frame,\"predicted class =\"+str(name[p]),(100,100),cv2.FONT_HERSHEY_SIMPLEX,1,(0,0,0),1)\n",
    "    cv2.imshow(\"image\",frame)\n",
    "    if cv2.waitKey(20)&0xFF -- ord('a'):\n",
    "        break\n",
    "video.release()\n",
    "cv2.destroyAllWindows"
   ]
  },
  {
   "cell_type": "code",
   "execution_count": null,
   "metadata": {},
   "outputs": [],
   "source": []
  },
  {
   "cell_type": "code",
   "execution_count": null,
   "metadata": {},
   "outputs": [],
   "source": []
  },
  {
   "cell_type": "code",
   "execution_count": null,
   "metadata": {},
   "outputs": [],
   "source": []
  },
  {
   "cell_type": "code",
   "execution_count": null,
   "metadata": {},
   "outputs": [],
   "source": []
  }
 ],
 "metadata": {
  "kernelspec": {
   "display_name": "Python 3",
   "language": "python",
   "name": "python3"
  },
  "language_info": {
   "codemirror_mode": {
    "name": "ipython",
    "version": 3
   },
   "file_extension": ".py",
   "mimetype": "text/x-python",
   "name": "python",
   "nbconvert_exporter": "python",
   "pygments_lexer": "ipython3",
   "version": "3.7.4"
  }
 },
 "nbformat": 4,
 "nbformat_minor": 2
}
