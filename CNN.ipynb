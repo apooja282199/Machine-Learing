{
 "cells": [
  {
   "cell_type": "code",
   "execution_count": 1,
   "metadata": {},
   "outputs": [
    {
     "name": "stderr",
     "output_type": "stream",
     "text": [
      "Using TensorFlow backend.\n"
     ]
    }
   ],
   "source": [
    "#step1.libraries import\n",
    "from keras.models import Sequential#cnn also follow sequence format one after another\n",
    "from keras.layers import Dense#to add hidden output layer\n",
    "from keras.layers import Convolution2D#adding covolution layer\n",
    "from keras.layers import MaxPooling2D#adding nmax pooling layer\n",
    "from keras.layers import Flatten"
   ]
  },
  {
   "cell_type": "code",
   "execution_count": 2,
   "metadata": {},
   "outputs": [],
   "source": [
    "#step 2 preprocessing\n",
    "from keras.preprocessing.image import ImageDataGenerator\n",
    "#2 variables\n",
    "train_datagen=ImageDataGenerator(rescale=1./255,shear_range=0.2,zoom_range=0.2,horizontal_flip=True)\n",
    "#scaled the pixel value of images of range o0 to 255 to get exact\n",
    "\n",
    "test_datagen=ImageDataGenerator(rescale=1./255)\n",
    "\n"
   ]
  },
  {
   "cell_type": "code",
   "execution_count": 5,
   "metadata": {},
   "outputs": [
    {
     "name": "stdout",
     "output_type": "stream",
     "text": [
      "Found 1495 images belonging to 5 classes.\n",
      "Found 640 images belonging to 5 classes.\n"
     ]
    }
   ],
   "source": [
    "x_train=train_datagen.flow_from_directory(r'C:\\Users\\user\\Downloads\\animalsCNN\\trainset',target_size=(64,64),batch_size=32,class_mode='categorical')\n",
    "\n",
    "x_test=test_datagen.flow_from_directory(r'C:\\Users\\user\\Downloads\\animalsCNN\\testset',target_size=(64,64),batch_size=32,class_mode='categorical')\n",
    "\n",
    "\n"
   ]
  },
  {
   "cell_type": "code",
   "execution_count": 6,
   "metadata": {},
   "outputs": [
    {
     "name": "stdout",
     "output_type": "stream",
     "text": [
      "{'bears': 0, 'crows': 1, 'elephants': 2, 'racoons': 3, 'rats': 4}\n"
     ]
    }
   ],
   "source": [
    "print(x_train.class_indices)"
   ]
  },
  {
   "cell_type": "code",
   "execution_count": 7,
   "metadata": {},
   "outputs": [
    {
     "name": "stdout",
     "output_type": "stream",
     "text": [
      "WARNING:tensorflow:From C:\\Users\\user\\Anaconda3\\lib\\site-packages\\keras\\backend\\tensorflow_backend.py:74: The name tf.get_default_graph is deprecated. Please use tf.compat.v1.get_default_graph instead.\n",
      "\n"
     ]
    }
   ],
   "source": [
    "model=Sequential()"
   ]
  },
  {
   "cell_type": "code",
   "execution_count": 9,
   "metadata": {},
   "outputs": [
    {
     "name": "stdout",
     "output_type": "stream",
     "text": [
      "WARNING:tensorflow:From C:\\Users\\user\\Anaconda3\\lib\\site-packages\\keras\\backend\\tensorflow_backend.py:517: The name tf.placeholder is deprecated. Please use tf.compat.v1.placeholder instead.\n",
      "\n",
      "WARNING:tensorflow:From C:\\Users\\user\\Anaconda3\\lib\\site-packages\\keras\\backend\\tensorflow_backend.py:4138: The name tf.random_uniform is deprecated. Please use tf.random.uniform instead.\n",
      "\n"
     ]
    }
   ],
   "source": [
    "#step 5 add convolution\n",
    "model.add(Convolution2D(32,(3,3),input_shape=(64,64,3),activation='relu'))"
   ]
  },
  {
   "cell_type": "code",
   "execution_count": 10,
   "metadata": {},
   "outputs": [
    {
     "name": "stdout",
     "output_type": "stream",
     "text": [
      "WARNING:tensorflow:From C:\\Users\\user\\Anaconda3\\lib\\site-packages\\keras\\backend\\tensorflow_backend.py:3976: The name tf.nn.max_pool is deprecated. Please use tf.nn.max_pool2d instead.\n",
      "\n"
     ]
    }
   ],
   "source": [
    "model.add(MaxPooling2D(pool_size=(2,2)))"
   ]
  },
  {
   "cell_type": "code",
   "execution_count": 11,
   "metadata": {},
   "outputs": [],
   "source": [
    "model.add(Flatten())#input layer of ANN"
   ]
  },
  {
   "cell_type": "code",
   "execution_count": 12,
   "metadata": {},
   "outputs": [
    {
     "name": "stderr",
     "output_type": "stream",
     "text": [
      "C:\\Users\\user\\Anaconda3\\lib\\site-packages\\ipykernel_launcher.py:2: UserWarning: Update your `Dense` call to the Keras 2 API: `Dense(units=128, activation=\"relu\", kernel_initializer=\"random_uniform\")`\n",
      "  \n"
     ]
    }
   ],
   "source": [
    "#hidden layer\n",
    "model.add(Dense(units=128,init='random_uniform',activation='relu'))"
   ]
  },
  {
   "cell_type": "code",
   "execution_count": 22,
   "metadata": {},
   "outputs": [
    {
     "name": "stderr",
     "output_type": "stream",
     "text": [
      "C:\\Users\\user\\Anaconda3\\lib\\site-packages\\ipykernel_launcher.py:1: UserWarning: Update your `Dense` call to the Keras 2 API: `Dense(units=5, activation=\"softmax\", kernel_initializer=\"random_uniform\")`\n",
      "  \"\"\"Entry point for launching an IPython kernel.\n"
     ]
    }
   ],
   "source": [
    "model.add(Dense(units =5,init = \"random_uniform\",activation = \"softmax\")) #output layer\n"
   ]
  },
  {
   "cell_type": "code",
   "execution_count": 23,
   "metadata": {},
   "outputs": [],
   "source": [
    "model.compile(loss=\"categorical_crossentropy\",optimizer='adam',metrics=['accuracy'])"
   ]
  },
  {
   "cell_type": "code",
   "execution_count": 24,
   "metadata": {},
   "outputs": [
    {
     "name": "stdout",
     "output_type": "stream",
     "text": [
      "Epoch 1/10\n",
      "47/47 [==============================] - 49s 1s/step - loss: 1.5698 - acc: 0.2946 - val_loss: 1.4267 - val_acc: 0.3578\n",
      "Epoch 2/10\n",
      "47/47 [==============================] - 14s 308ms/step - loss: 1.3574 - acc: 0.4489 - val_loss: 1.3950 - val_acc: 0.3984\n",
      "Epoch 3/10\n",
      "47/47 [==============================] - 13s 286ms/step - loss: 1.1427 - acc: 0.5596 - val_loss: 0.9642 - val_acc: 0.6141\n",
      "Epoch 4/10\n",
      "47/47 [==============================] - 14s 292ms/step - loss: 1.0051 - acc: 0.6059 - val_loss: 0.7543 - val_acc: 0.7172\n",
      "Epoch 5/10\n",
      "47/47 [==============================] - 14s 308ms/step - loss: 0.9370 - acc: 0.6419 - val_loss: 0.9353 - val_acc: 0.6516\n",
      "Epoch 6/10\n",
      "47/47 [==============================] - 14s 302ms/step - loss: 0.8810 - acc: 0.6700 - val_loss: 0.6915 - val_acc: 0.7625\n",
      "Epoch 7/10\n",
      "47/47 [==============================] - 14s 291ms/step - loss: 0.7821 - acc: 0.7097 - val_loss: 0.5642 - val_acc: 0.8016\n",
      "Epoch 8/10\n",
      "47/47 [==============================] - 14s 289ms/step - loss: 0.7346 - acc: 0.7357 - val_loss: 0.7506 - val_acc: 0.7063\n",
      "Epoch 9/10\n",
      "47/47 [==============================] - 14s 300ms/step - loss: 0.6718 - acc: 0.7546 - val_loss: 0.9826 - val_acc: 0.6141\n",
      "Epoch 10/10\n",
      "47/47 [==============================] - 14s 296ms/step - loss: 0.6697 - acc: 0.7450 - val_loss: 0.5236 - val_acc: 0.7875\n"
     ]
    },
    {
     "data": {
      "text/plain": [
       "<keras.callbacks.History at 0x295ed220a88>"
      ]
     },
     "execution_count": 24,
     "metadata": {},
     "output_type": "execute_result"
    }
   ],
   "source": [
    "model.fit_generator(x_train , steps_per_epoch =  47 , epochs = 10, validation_data = x_test, validation_steps = 20)\n"
   ]
  },
  {
   "cell_type": "code",
   "execution_count": 26,
   "metadata": {},
   "outputs": [],
   "source": [
    "model.save(\"animal.h5\")\n"
   ]
  }
 ],
 "metadata": {
  "kernelspec": {
   "display_name": "Python 3",
   "language": "python",
   "name": "python3"
  },
  "language_info": {
   "codemirror_mode": {
    "name": "ipython",
    "version": 3
   },
   "file_extension": ".py",
   "mimetype": "text/x-python",
   "name": "python",
   "nbconvert_exporter": "python",
   "pygments_lexer": "ipython3",
   "version": "3.7.4"
  }
 },
 "nbformat": 4,
 "nbformat_minor": 2
}
