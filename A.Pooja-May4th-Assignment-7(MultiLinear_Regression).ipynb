{
 "cells": [
  {
   "cell_type": "code",
   "execution_count": 1,
   "metadata": {},
   "outputs": [],
   "source": [
    "#1.read the data\n",
    "import numpy as np\n",
    "import pandas as pd"
   ]
  },
  {
   "cell_type": "code",
   "execution_count": 2,
   "metadata": {},
   "outputs": [],
   "source": [
    "dataset=pd.read_csv(r\"Downloads\\Fish.csv\")"
   ]
  },
  {
   "cell_type": "code",
   "execution_count": 3,
   "metadata": {},
   "outputs": [
    {
     "data": {
      "text/html": [
       "<div>\n",
       "<style scoped>\n",
       "    .dataframe tbody tr th:only-of-type {\n",
       "        vertical-align: middle;\n",
       "    }\n",
       "\n",
       "    .dataframe tbody tr th {\n",
       "        vertical-align: top;\n",
       "    }\n",
       "\n",
       "    .dataframe thead th {\n",
       "        text-align: right;\n",
       "    }\n",
       "</style>\n",
       "<table border=\"1\" class=\"dataframe\">\n",
       "  <thead>\n",
       "    <tr style=\"text-align: right;\">\n",
       "      <th></th>\n",
       "      <th>Species</th>\n",
       "      <th>Weight</th>\n",
       "      <th>Length1</th>\n",
       "      <th>Length2</th>\n",
       "      <th>Length3</th>\n",
       "      <th>Height</th>\n",
       "      <th>Width</th>\n",
       "    </tr>\n",
       "  </thead>\n",
       "  <tbody>\n",
       "    <tr>\n",
       "      <td>0</td>\n",
       "      <td>Bream</td>\n",
       "      <td>242.0</td>\n",
       "      <td>23.2</td>\n",
       "      <td>25.4</td>\n",
       "      <td>30.0</td>\n",
       "      <td>11.5200</td>\n",
       "      <td>4.0200</td>\n",
       "    </tr>\n",
       "    <tr>\n",
       "      <td>1</td>\n",
       "      <td>Bream</td>\n",
       "      <td>290.0</td>\n",
       "      <td>24.0</td>\n",
       "      <td>26.3</td>\n",
       "      <td>31.2</td>\n",
       "      <td>12.4800</td>\n",
       "      <td>4.3056</td>\n",
       "    </tr>\n",
       "    <tr>\n",
       "      <td>2</td>\n",
       "      <td>Bream</td>\n",
       "      <td>340.0</td>\n",
       "      <td>23.9</td>\n",
       "      <td>26.5</td>\n",
       "      <td>31.1</td>\n",
       "      <td>12.3778</td>\n",
       "      <td>4.6961</td>\n",
       "    </tr>\n",
       "  </tbody>\n",
       "</table>\n",
       "</div>"
      ],
      "text/plain": [
       "  Species  Weight  Length1  Length2  Length3   Height   Width\n",
       "0   Bream   242.0     23.2     25.4     30.0  11.5200  4.0200\n",
       "1   Bream   290.0     24.0     26.3     31.2  12.4800  4.3056\n",
       "2   Bream   340.0     23.9     26.5     31.1  12.3778  4.6961"
      ]
     },
     "execution_count": 3,
     "metadata": {},
     "output_type": "execute_result"
    }
   ],
   "source": [
    "dataset.head(3)"
   ]
  },
  {
   "cell_type": "code",
   "execution_count": 4,
   "metadata": {},
   "outputs": [
    {
     "data": {
      "text/plain": [
       "Species    False\n",
       "Weight     False\n",
       "Length1    False\n",
       "Length2    False\n",
       "Length3    False\n",
       "Height     False\n",
       "Width      False\n",
       "dtype: bool"
      ]
     },
     "execution_count": 4,
     "metadata": {},
     "output_type": "execute_result"
    }
   ],
   "source": [
    "dataset.isnull().any()"
   ]
  },
  {
   "cell_type": "code",
   "execution_count": 5,
   "metadata": {},
   "outputs": [],
   "source": [
    "from sklearn.preprocessing import LabelEncoder\n",
    "le=LabelEncoder()\n",
    "dataset['Species']=le.fit_transform(dataset['Species'])"
   ]
  },
  {
   "cell_type": "code",
   "execution_count": 6,
   "metadata": {},
   "outputs": [
    {
     "data": {
      "text/plain": [
       "array([0, 4, 6, 1, 2, 3, 5], dtype=int64)"
      ]
     },
     "execution_count": 6,
     "metadata": {},
     "output_type": "execute_result"
    }
   ],
   "source": [
    "dataset['Species'].unique()"
   ]
  },
  {
   "cell_type": "code",
   "execution_count": 7,
   "metadata": {},
   "outputs": [
    {
     "data": {
      "text/html": [
       "<div>\n",
       "<style scoped>\n",
       "    .dataframe tbody tr th:only-of-type {\n",
       "        vertical-align: middle;\n",
       "    }\n",
       "\n",
       "    .dataframe tbody tr th {\n",
       "        vertical-align: top;\n",
       "    }\n",
       "\n",
       "    .dataframe thead th {\n",
       "        text-align: right;\n",
       "    }\n",
       "</style>\n",
       "<table border=\"1\" class=\"dataframe\">\n",
       "  <thead>\n",
       "    <tr style=\"text-align: right;\">\n",
       "      <th></th>\n",
       "      <th>Species</th>\n",
       "      <th>Weight</th>\n",
       "      <th>Length1</th>\n",
       "      <th>Length2</th>\n",
       "      <th>Length3</th>\n",
       "      <th>Height</th>\n",
       "      <th>Width</th>\n",
       "    </tr>\n",
       "  </thead>\n",
       "  <tbody>\n",
       "    <tr>\n",
       "      <td>0</td>\n",
       "      <td>0</td>\n",
       "      <td>242.0</td>\n",
       "      <td>23.2</td>\n",
       "      <td>25.4</td>\n",
       "      <td>30.0</td>\n",
       "      <td>11.52</td>\n",
       "      <td>4.0200</td>\n",
       "    </tr>\n",
       "    <tr>\n",
       "      <td>1</td>\n",
       "      <td>0</td>\n",
       "      <td>290.0</td>\n",
       "      <td>24.0</td>\n",
       "      <td>26.3</td>\n",
       "      <td>31.2</td>\n",
       "      <td>12.48</td>\n",
       "      <td>4.3056</td>\n",
       "    </tr>\n",
       "  </tbody>\n",
       "</table>\n",
       "</div>"
      ],
      "text/plain": [
       "   Species  Weight  Length1  Length2  Length3  Height   Width\n",
       "0        0   242.0     23.2     25.4     30.0   11.52  4.0200\n",
       "1        0   290.0     24.0     26.3     31.2   12.48  4.3056"
      ]
     },
     "execution_count": 7,
     "metadata": {},
     "output_type": "execute_result"
    }
   ],
   "source": [
    "dataset.head(2)"
   ]
  },
  {
   "cell_type": "code",
   "execution_count": 8,
   "metadata": {},
   "outputs": [],
   "source": [
    "x=dataset.iloc[:,0:7].values\n",
    "y=dataset.iloc[:,1:2].values"
   ]
  },
  {
   "cell_type": "code",
   "execution_count": 9,
   "metadata": {},
   "outputs": [
    {
     "data": {
      "text/plain": [
       "(159, 7)"
      ]
     },
     "execution_count": 9,
     "metadata": {},
     "output_type": "execute_result"
    }
   ],
   "source": [
    "x.shape"
   ]
  },
  {
   "cell_type": "code",
   "execution_count": 10,
   "metadata": {},
   "outputs": [
    {
     "name": "stderr",
     "output_type": "stream",
     "text": [
      "C:\\Users\\user\\Anaconda3\\lib\\site-packages\\sklearn\\preprocessing\\_encoders.py:415: FutureWarning: The handling of integer data will change in version 0.22. Currently, the categories are determined based on the range [0, max(values)], while in the future they will be determined based on the unique values.\n",
      "If you want the future behaviour and silence this warning, you can specify \"categories='auto'\".\n",
      "In case you used a LabelEncoder before this OneHotEncoder to convert the categories to integers, then you can now use the OneHotEncoder directly.\n",
      "  warnings.warn(msg, FutureWarning)\n"
     ]
    }
   ],
   "source": [
    "from sklearn.preprocessing import OneHotEncoder\n",
    "one=OneHotEncoder()\n",
    "z=one.fit_transform(x[:,0:1]).toarray()\n",
    "x=np.delete(x,0,axis=1)\n",
    "x=np.delete(x,0,axis=1)\n",
    "x=np.concatenate((x,z),axis=1)"
   ]
  },
  {
   "cell_type": "code",
   "execution_count": 11,
   "metadata": {},
   "outputs": [
    {
     "data": {
      "text/plain": [
       "(159, 12)"
      ]
     },
     "execution_count": 11,
     "metadata": {},
     "output_type": "execute_result"
    }
   ],
   "source": [
    "x.shape"
   ]
  },
  {
   "cell_type": "code",
   "execution_count": 12,
   "metadata": {},
   "outputs": [
    {
     "data": {
      "text/plain": [
       "(159, 1)"
      ]
     },
     "execution_count": 12,
     "metadata": {},
     "output_type": "execute_result"
    }
   ],
   "source": [
    "y.shape"
   ]
  },
  {
   "cell_type": "code",
   "execution_count": 13,
   "metadata": {},
   "outputs": [
    {
     "data": {
      "text/plain": [
       "array([[23.2, 25.4, 30. , ...,  0. ,  0. ,  0. ],\n",
       "       [24. , 26.3, 31.2, ...,  0. ,  0. ,  0. ],\n",
       "       [23.9, 26.5, 31.1, ...,  0. ,  0. ,  0. ],\n",
       "       ...,\n",
       "       [12.1, 13. , 13.8, ...,  0. ,  1. ,  0. ],\n",
       "       [13.2, 14.3, 15.2, ...,  0. ,  1. ,  0. ],\n",
       "       [13.8, 15. , 16.2, ...,  0. ,  1. ,  0. ]])"
      ]
     },
     "execution_count": 13,
     "metadata": {},
     "output_type": "execute_result"
    }
   ],
   "source": [
    "x"
   ]
  },
  {
   "cell_type": "code",
   "execution_count": 14,
   "metadata": {},
   "outputs": [
    {
     "data": {
      "text/plain": [
       "array([[ 242. ],\n",
       "       [ 290. ],\n",
       "       [ 340. ],\n",
       "       [ 363. ],\n",
       "       [ 430. ],\n",
       "       [ 450. ],\n",
       "       [ 500. ],\n",
       "       [ 390. ],\n",
       "       [ 450. ],\n",
       "       [ 500. ],\n",
       "       [ 475. ],\n",
       "       [ 500. ],\n",
       "       [ 500. ],\n",
       "       [ 340. ],\n",
       "       [ 600. ],\n",
       "       [ 600. ],\n",
       "       [ 700. ],\n",
       "       [ 700. ],\n",
       "       [ 610. ],\n",
       "       [ 650. ],\n",
       "       [ 575. ],\n",
       "       [ 685. ],\n",
       "       [ 620. ],\n",
       "       [ 680. ],\n",
       "       [ 700. ],\n",
       "       [ 725. ],\n",
       "       [ 720. ],\n",
       "       [ 714. ],\n",
       "       [ 850. ],\n",
       "       [1000. ],\n",
       "       [ 920. ],\n",
       "       [ 955. ],\n",
       "       [ 925. ],\n",
       "       [ 975. ],\n",
       "       [ 950. ],\n",
       "       [  40. ],\n",
       "       [  69. ],\n",
       "       [  78. ],\n",
       "       [  87. ],\n",
       "       [ 120. ],\n",
       "       [   0. ],\n",
       "       [ 110. ],\n",
       "       [ 120. ],\n",
       "       [ 150. ],\n",
       "       [ 145. ],\n",
       "       [ 160. ],\n",
       "       [ 140. ],\n",
       "       [ 160. ],\n",
       "       [ 169. ],\n",
       "       [ 161. ],\n",
       "       [ 200. ],\n",
       "       [ 180. ],\n",
       "       [ 290. ],\n",
       "       [ 272. ],\n",
       "       [ 390. ],\n",
       "       [ 270. ],\n",
       "       [ 270. ],\n",
       "       [ 306. ],\n",
       "       [ 540. ],\n",
       "       [ 800. ],\n",
       "       [1000. ],\n",
       "       [  55. ],\n",
       "       [  60. ],\n",
       "       [  90. ],\n",
       "       [ 120. ],\n",
       "       [ 150. ],\n",
       "       [ 140. ],\n",
       "       [ 170. ],\n",
       "       [ 145. ],\n",
       "       [ 200. ],\n",
       "       [ 273. ],\n",
       "       [ 300. ],\n",
       "       [   5.9],\n",
       "       [  32. ],\n",
       "       [  40. ],\n",
       "       [  51.5],\n",
       "       [  70. ],\n",
       "       [ 100. ],\n",
       "       [  78. ],\n",
       "       [  80. ],\n",
       "       [  85. ],\n",
       "       [  85. ],\n",
       "       [ 110. ],\n",
       "       [ 115. ],\n",
       "       [ 125. ],\n",
       "       [ 130. ],\n",
       "       [ 120. ],\n",
       "       [ 120. ],\n",
       "       [ 130. ],\n",
       "       [ 135. ],\n",
       "       [ 110. ],\n",
       "       [ 130. ],\n",
       "       [ 150. ],\n",
       "       [ 145. ],\n",
       "       [ 150. ],\n",
       "       [ 170. ],\n",
       "       [ 225. ],\n",
       "       [ 145. ],\n",
       "       [ 188. ],\n",
       "       [ 180. ],\n",
       "       [ 197. ],\n",
       "       [ 218. ],\n",
       "       [ 300. ],\n",
       "       [ 260. ],\n",
       "       [ 265. ],\n",
       "       [ 250. ],\n",
       "       [ 250. ],\n",
       "       [ 300. ],\n",
       "       [ 320. ],\n",
       "       [ 514. ],\n",
       "       [ 556. ],\n",
       "       [ 840. ],\n",
       "       [ 685. ],\n",
       "       [ 700. ],\n",
       "       [ 700. ],\n",
       "       [ 690. ],\n",
       "       [ 900. ],\n",
       "       [ 650. ],\n",
       "       [ 820. ],\n",
       "       [ 850. ],\n",
       "       [ 900. ],\n",
       "       [1015. ],\n",
       "       [ 820. ],\n",
       "       [1100. ],\n",
       "       [1000. ],\n",
       "       [1100. ],\n",
       "       [1000. ],\n",
       "       [1000. ],\n",
       "       [ 200. ],\n",
       "       [ 300. ],\n",
       "       [ 300. ],\n",
       "       [ 300. ],\n",
       "       [ 430. ],\n",
       "       [ 345. ],\n",
       "       [ 456. ],\n",
       "       [ 510. ],\n",
       "       [ 540. ],\n",
       "       [ 500. ],\n",
       "       [ 567. ],\n",
       "       [ 770. ],\n",
       "       [ 950. ],\n",
       "       [1250. ],\n",
       "       [1600. ],\n",
       "       [1550. ],\n",
       "       [1650. ],\n",
       "       [   6.7],\n",
       "       [   7.5],\n",
       "       [   7. ],\n",
       "       [   9.7],\n",
       "       [   9.8],\n",
       "       [   8.7],\n",
       "       [  10. ],\n",
       "       [   9.9],\n",
       "       [   9.8],\n",
       "       [  12.2],\n",
       "       [  13.4],\n",
       "       [  12.2],\n",
       "       [  19.7],\n",
       "       [  19.9]])"
      ]
     },
     "execution_count": 14,
     "metadata": {},
     "output_type": "execute_result"
    }
   ],
   "source": [
    "y"
   ]
  },
  {
   "cell_type": "code",
   "execution_count": 15,
   "metadata": {},
   "outputs": [],
   "source": [
    "from sklearn.model_selection import train_test_split\n",
    "x_train,x_test,y_train,y_test=train_test_split(x,y,test_size=0.2,random_state=0)"
   ]
  },
  {
   "cell_type": "code",
   "execution_count": 16,
   "metadata": {},
   "outputs": [
    {
     "data": {
      "text/plain": [
       "(127, 12)"
      ]
     },
     "execution_count": 16,
     "metadata": {},
     "output_type": "execute_result"
    }
   ],
   "source": [
    "x_train.shape"
   ]
  },
  {
   "cell_type": "code",
   "execution_count": 18,
   "metadata": {},
   "outputs": [
    {
     "data": {
      "text/plain": [
       "(32, 12)"
      ]
     },
     "execution_count": 18,
     "metadata": {},
     "output_type": "execute_result"
    }
   ],
   "source": [
    "x_test.shape"
   ]
  },
  {
   "cell_type": "code",
   "execution_count": 19,
   "metadata": {},
   "outputs": [
    {
     "data": {
      "text/plain": [
       "LinearRegression(copy_X=True, fit_intercept=True, n_jobs=None, normalize=False)"
      ]
     },
     "execution_count": 19,
     "metadata": {},
     "output_type": "execute_result"
    }
   ],
   "source": [
    "from sklearn.linear_model import LinearRegression\n",
    "mlr=LinearRegression()\n",
    "mlr.fit(x_train,y_train)"
   ]
  },
  {
   "cell_type": "code",
   "execution_count": 20,
   "metadata": {},
   "outputs": [],
   "source": [
    "y_pred=mlr.predict(x_test)"
   ]
  },
  {
   "cell_type": "code",
   "execution_count": 21,
   "metadata": {},
   "outputs": [
    {
     "data": {
      "text/plain": [
       "array([[ 428.88533577],\n",
       "       [  98.08363614],\n",
       "       [ 216.67998922],\n",
       "       [ 208.66936638],\n",
       "       [ 657.24094116],\n",
       "       [ 876.38855413],\n",
       "       [ 665.97861965],\n",
       "       [ 407.27203048],\n",
       "       [ 965.65306863],\n",
       "       [ 146.62291102],\n",
       "       [ 255.15532231],\n",
       "       [ 561.63685124],\n",
       "       [ 765.67575361],\n",
       "       [1012.38234027],\n",
       "       [-118.72798063],\n",
       "       [  14.47341216],\n",
       "       [ 137.60789564],\n",
       "       [1155.53572308],\n",
       "       [ 170.97092949],\n",
       "       [ 724.93548455],\n",
       "       [-128.48675188],\n",
       "       [ 525.45508599],\n",
       "       [ 175.3519065 ],\n",
       "       [1322.74816983],\n",
       "       [ -23.0873263 ],\n",
       "       [ 475.44172778],\n",
       "       [ 719.96841977],\n",
       "       [ 280.94571114],\n",
       "       [ 885.12085107],\n",
       "       [ -16.63412226],\n",
       "       [ 585.26038657],\n",
       "       [ 164.22863371]])"
      ]
     },
     "execution_count": 21,
     "metadata": {},
     "output_type": "execute_result"
    }
   ],
   "source": [
    "y_pred"
   ]
  },
  {
   "cell_type": "code",
   "execution_count": 22,
   "metadata": {},
   "outputs": [
    {
     "data": {
      "text/plain": [
       "array([[27.6   , 30.    , 35.    , 12.67  ,  4.69  ,  1.    ,  0.    ,\n",
       "         0.    ,  0.    ,  0.    ,  0.    ,  0.    ],\n",
       "       [19.    , 20.5   , 22.8   ,  6.4752,  3.3516,  0.    ,  0.    ,\n",
       "         0.    ,  0.    ,  1.    ,  0.    ,  0.    ],\n",
       "       [21.5   , 23.5   , 25.    ,  6.275 ,  3.725 ,  0.    ,  0.    ,\n",
       "         1.    ,  0.    ,  0.    ,  0.    ,  0.    ],\n",
       "       [20.5   , 22.5   , 25.3   ,  7.0334,  3.8203,  0.    ,  0.    ,\n",
       "         0.    ,  0.    ,  1.    ,  0.    ,  0.    ],\n",
       "       [32.    , 34.5   , 36.5   , 10.2565,  6.3875,  0.    ,  0.    ,\n",
       "         1.    ,  0.    ,  0.    ,  0.    ,  0.    ],\n",
       "       [37.    , 40.    , 42.5   , 11.73  ,  7.225 ,  0.    ,  0.    ,\n",
       "         1.    ,  0.    ,  0.    ,  0.    ,  0.    ],\n",
       "       [33.7   , 36.4   , 39.6   , 11.7612,  6.5736,  0.    ,  0.    ,\n",
       "         0.    ,  0.    ,  0.    ,  0.    ,  1.    ],\n",
       "       [34.8   , 37.3   , 39.8   ,  6.2884,  4.0198,  0.    ,  0.    ,\n",
       "         0.    ,  1.    ,  0.    ,  0.    ,  0.    ],\n",
       "       [37.4   , 41.    , 45.9   , 18.6354,  6.7473,  1.    ,  0.    ,\n",
       "         0.    ,  0.    ,  0.    ,  0.    ,  0.    ],\n",
       "       [19.    , 21.    , 22.5   ,  5.9175,  3.3075,  0.    ,  0.    ,\n",
       "         1.    ,  0.    ,  0.    ,  0.    ,  0.    ],\n",
       "       [30.    , 32.3   , 34.8   ,  5.568 ,  3.3756,  0.    ,  0.    ,\n",
       "         0.    ,  1.    ,  0.    ,  0.    ,  0.    ],\n",
       "       [40.    , 42.5   , 45.5   ,  7.28  ,  4.3225,  0.    ,  0.    ,\n",
       "         0.    ,  1.    ,  0.    ,  0.    ,  0.    ],\n",
       "       [37.3   , 40.    , 43.5   , 12.354 ,  6.525 ,  0.    ,  0.    ,\n",
       "         0.    ,  0.    ,  0.    ,  0.    ,  1.    ],\n",
       "       [40.2   , 43.5   , 46.    , 12.604 ,  8.142 ,  0.    ,  0.    ,\n",
       "         1.    ,  0.    ,  0.    ,  0.    ,  0.    ],\n",
       "       [14.3   , 15.5   , 17.4   ,  6.5772,  2.3142,  0.    ,  1.    ,\n",
       "         0.    ,  0.    ,  0.    ,  0.    ,  0.    ],\n",
       "       [17.5   , 18.8   , 21.2   ,  5.5756,  2.9044,  0.    ,  0.    ,\n",
       "         0.    ,  0.    ,  1.    ,  0.    ,  0.    ],\n",
       "       [20.5   , 22.    , 24.3   ,  6.6339,  3.5478,  0.    ,  0.    ,\n",
       "         0.    ,  0.    ,  1.    ,  0.    ,  0.    ],\n",
       "       [56.    , 60.    , 64.    ,  9.6   ,  6.144 ,  0.    ,  0.    ,\n",
       "         0.    ,  1.    ,  0.    ,  0.    ,  0.    ],\n",
       "       [19.3   , 21.3   , 22.8   ,  6.384 ,  3.534 ,  0.    ,  0.    ,\n",
       "         1.    ,  0.    ,  0.    ,  0.    ,  0.    ],\n",
       "       [32.    , 35.    , 40.6   , 16.3618,  6.09  ,  1.    ,  0.    ,\n",
       "         0.    ,  0.    ,  0.    ,  0.    ,  0.    ],\n",
       "       [13.5   , 14.7   , 16.5   ,  6.8475,  2.3265,  0.    ,  1.    ,\n",
       "         0.    ,  0.    ,  0.    ,  0.    ,  0.    ],\n",
       "       [29.5   , 31.7   , 35.    ,  9.485 ,  5.355 ,  0.    ,  0.    ,\n",
       "         0.    ,  0.    ,  1.    ,  0.    ,  0.    ],\n",
       "       [20.    , 22.    , 23.5   ,  6.11  ,  3.4075,  0.    ,  0.    ,\n",
       "         1.    ,  0.    ,  0.    ,  0.    ,  0.    ],\n",
       "       [59.    , 63.4   , 68.    , 10.812 ,  7.48  ,  0.    ,  0.    ,\n",
       "         0.    ,  1.    ,  0.    ,  0.    ,  0.    ],\n",
       "       [16.3   , 17.7   , 19.8   ,  7.4052,  2.673 ,  0.    ,  1.    ,\n",
       "         0.    ,  0.    ,  0.    ,  0.    ,  0.    ],\n",
       "       [27.6   , 30.    , 35.1   , 14.0049,  4.8438,  1.    ,  0.    ,\n",
       "         0.    ,  0.    ,  0.    ,  0.    ,  0.    ],\n",
       "       [31.9   , 35.    , 40.5   , 16.2405,  5.589 ,  1.    ,  0.    ,\n",
       "         0.    ,  0.    ,  0.    ,  0.    ,  0.    ],\n",
       "       [24.1   , 26.5   , 29.3   ,  8.1454,  4.2485,  0.    ,  0.    ,\n",
       "         0.    ,  0.    ,  0.    ,  0.    ,  1.    ],\n",
       "       [36.9   , 40.    , 42.3   , 11.9286,  7.1064,  0.    ,  0.    ,\n",
       "         1.    ,  0.    ,  0.    ,  0.    ,  0.    ],\n",
       "       [10.4   , 11.    , 12.    ,  2.196 ,  1.38  ,  0.    ,  0.    ,\n",
       "         0.    ,  0.    ,  0.    ,  1.    ,  0.    ],\n",
       "       [31.    , 33.5   , 38.7   , 14.4738,  5.7276,  1.    ,  0.    ,\n",
       "         0.    ,  0.    ,  0.    ,  0.    ,  0.    ],\n",
       "       [20.    , 22.    , 23.5   ,  5.5225,  3.995 ,  0.    ,  0.    ,\n",
       "         1.    ,  0.    ,  0.    ,  0.    ,  0.    ]])"
      ]
     },
     "execution_count": 22,
     "metadata": {},
     "output_type": "execute_result"
    }
   ],
   "source": [
    "x_test\n"
   ]
  },
  {
   "cell_type": "code",
   "execution_count": 25,
   "metadata": {},
   "outputs": [
    {
     "data": {
      "text/plain": [
       "array([[ 390. ],\n",
       "       [   0. ],\n",
       "       [ 170. ],\n",
       "       [ 160. ],\n",
       "       [ 556. ],\n",
       "       [ 900. ],\n",
       "       [ 800. ],\n",
       "       [ 300. ],\n",
       "       [ 975. ],\n",
       "       [ 115. ],\n",
       "       [ 200. ],\n",
       "       [ 456. ],\n",
       "       [1000. ],\n",
       "       [1000. ],\n",
       "       [  60. ],\n",
       "       [  78. ],\n",
       "       [ 145. ],\n",
       "       [1600. ],\n",
       "       [ 130. ],\n",
       "       [ 720. ],\n",
       "       [  55. ],\n",
       "       [ 390. ],\n",
       "       [ 120. ],\n",
       "       [1650. ],\n",
       "       [  90. ],\n",
       "       [ 450. ],\n",
       "       [ 700. ],\n",
       "       [ 270. ],\n",
       "       [ 850. ],\n",
       "       [   9.7],\n",
       "       [ 650. ],\n",
       "       [ 110. ]])"
      ]
     },
     "execution_count": 25,
     "metadata": {},
     "output_type": "execute_result"
    }
   ],
   "source": [
    "y_test"
   ]
  },
  {
   "cell_type": "code",
   "execution_count": 26,
   "metadata": {},
   "outputs": [],
   "source": [
    "from sklearn.metrics import r2_score\n",
    "accuracy=r2_score(y_test,y_pred)"
   ]
  },
  {
   "cell_type": "code",
   "execution_count": 27,
   "metadata": {},
   "outputs": [
    {
     "data": {
      "text/plain": [
       "0.910235031620259"
      ]
     },
     "execution_count": 27,
     "metadata": {},
     "output_type": "execute_result"
    }
   ],
   "source": [
    "accuracy"
   ]
  },
  {
   "cell_type": "code",
   "execution_count": 33,
   "metadata": {},
   "outputs": [],
   "source": [
    "y1=mlr.predict([[23.2,25.4,30.0,11.52,4.02,1,0,0,0,0,0,0]])"
   ]
  },
  {
   "cell_type": "code",
   "execution_count": 34,
   "metadata": {},
   "outputs": [
    {
     "data": {
      "text/plain": [
       "264.5960834873231"
      ]
     },
     "execution_count": 34,
     "metadata": {},
     "output_type": "execute_result"
    }
   ],
   "source": [
    "y1[0][0]"
   ]
  },
  {
   "cell_type": "code",
   "execution_count": 36,
   "metadata": {},
   "outputs": [
    {
     "data": {
      "text/plain": [
       "<matplotlib.collections.PathCollection at 0x282555b9508>"
      ]
     },
     "execution_count": 36,
     "metadata": {},
     "output_type": "execute_result"
    },
    {
     "data": {
      "image/png": "[encoded data removed]",
      "text/plain": [
       "<Figure size 432x288 with 1 Axes>"
      ]
     },
     "metadata": {
      "needs_background": "light"
     },
     "output_type": "display_data"
    }
   ],
   "source": [
    "import matplotlib.pyplot as plt\n",
    "plt.scatter(x_train[:,3],y_train[:,0],color=\"red\")\n",
    "plt.scatter(x_train[:,4],y_train[:,0],color=\"blue\")\n",
    "plt.scatter(x_train[:,5],y_train[:,0],color=\"green\")"
   ]
  }
 ],
 "metadata": {
  "kernelspec": {
   "display_name": "Python 3",
   "language": "python",
   "name": "python3"
  },
  "language_info": {
   "codemirror_mode": {
    "name": "ipython",
    "version": 3
   },
   "file_extension": ".py",
   "mimetype": "text/x-python",
   "name": "python",
   "nbconvert_exporter": "python",
   "pygments_lexer": "ipython3",
   "version": "3.7.4"
  }
 },
 "nbformat": 4,
 "nbformat_minor": 2
}
