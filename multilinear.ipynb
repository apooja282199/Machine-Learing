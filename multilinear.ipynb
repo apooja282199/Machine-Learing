{
 "cells": [
  {
   "cell_type": "code",
   "execution_count": 1,
   "metadata": {},
   "outputs": [],
   "source": [
    "#1.read the data\n",
    "import numpy as np\n",
    "import pandas as pd"
   ]
  },
  {
   "cell_type": "code",
   "execution_count": 2,
   "metadata": {},
   "outputs": [],
   "source": [
    "dataset=pd.read_csv(r\"Downloads\\50_Startups.csv\")"
   ]
  },
  {
   "cell_type": "code",
   "execution_count": 3,
   "metadata": {},
   "outputs": [
    {
     "data": {
      "text/html": [
       "<div>\n",
       "<style scoped>\n",
       "    .dataframe tbody tr th:only-of-type {\n",
       "        vertical-align: middle;\n",
       "    }\n",
       "\n",
       "    .dataframe tbody tr th {\n",
       "        vertical-align: top;\n",
       "    }\n",
       "\n",
       "    .dataframe thead th {\n",
       "        text-align: right;\n",
       "    }\n",
       "</style>\n",
       "<table border=\"1\" class=\"dataframe\">\n",
       "  <thead>\n",
       "    <tr style=\"text-align: right;\">\n",
       "      <th></th>\n",
       "      <th>R&amp;D Spend</th>\n",
       "      <th>Administration</th>\n",
       "      <th>Marketing Spend</th>\n",
       "      <th>State</th>\n",
       "      <th>Profit</th>\n",
       "    </tr>\n",
       "  </thead>\n",
       "  <tbody>\n",
       "    <tr>\n",
       "      <td>0</td>\n",
       "      <td>165349.20</td>\n",
       "      <td>136897.80</td>\n",
       "      <td>471784.10</td>\n",
       "      <td>New York</td>\n",
       "      <td>192261.83</td>\n",
       "    </tr>\n",
       "    <tr>\n",
       "      <td>1</td>\n",
       "      <td>162597.70</td>\n",
       "      <td>151377.59</td>\n",
       "      <td>443898.53</td>\n",
       "      <td>California</td>\n",
       "      <td>191792.06</td>\n",
       "    </tr>\n",
       "    <tr>\n",
       "      <td>2</td>\n",
       "      <td>153441.51</td>\n",
       "      <td>101145.55</td>\n",
       "      <td>407934.54</td>\n",
       "      <td>Florida</td>\n",
       "      <td>191050.39</td>\n",
       "    </tr>\n",
       "    <tr>\n",
       "      <td>3</td>\n",
       "      <td>144372.41</td>\n",
       "      <td>118671.85</td>\n",
       "      <td>383199.62</td>\n",
       "      <td>New York</td>\n",
       "      <td>182901.99</td>\n",
       "    </tr>\n",
       "    <tr>\n",
       "      <td>4</td>\n",
       "      <td>142107.34</td>\n",
       "      <td>91391.77</td>\n",
       "      <td>366168.42</td>\n",
       "      <td>Florida</td>\n",
       "      <td>166187.94</td>\n",
       "    </tr>\n",
       "  </tbody>\n",
       "</table>\n",
       "</div>"
      ],
      "text/plain": [
       "   R&D Spend  Administration  Marketing Spend       State     Profit\n",
       "0  165349.20       136897.80        471784.10    New York  192261.83\n",
       "1  162597.70       151377.59        443898.53  California  191792.06\n",
       "2  153441.51       101145.55        407934.54     Florida  191050.39\n",
       "3  144372.41       118671.85        383199.62    New York  182901.99\n",
       "4  142107.34        91391.77        366168.42     Florida  166187.94"
      ]
     },
     "execution_count": 3,
     "metadata": {},
     "output_type": "execute_result"
    }
   ],
   "source": [
    "dataset.head()"
   ]
  },
  {
   "cell_type": "code",
   "execution_count": 4,
   "metadata": {},
   "outputs": [
    {
     "data": {
      "text/plain": [
       "R&D Spend          False\n",
       "Administration     False\n",
       "Marketing Spend    False\n",
       "State              False\n",
       "Profit             False\n",
       "dtype: bool"
      ]
     },
     "execution_count": 4,
     "metadata": {},
     "output_type": "execute_result"
    }
   ],
   "source": [
    "#2.data preprocessing-i.missing values check\n",
    "dataset.isnull().any()"
   ]
  },
  {
   "cell_type": "code",
   "execution_count": 5,
   "metadata": {},
   "outputs": [],
   "source": [
    "#ii.need of label encoding\n",
    "from sklearn.preprocessing import LabelEncoder\n",
    "le=LabelEncoder()\n",
    "dataset['State']=le.fit_transform(dataset['State'])"
   ]
  },
  {
   "cell_type": "code",
   "execution_count": 6,
   "metadata": {},
   "outputs": [
    {
     "data": {
      "text/html": [
       "<div>\n",
       "<style scoped>\n",
       "    .dataframe tbody tr th:only-of-type {\n",
       "        vertical-align: middle;\n",
       "    }\n",
       "\n",
       "    .dataframe tbody tr th {\n",
       "        vertical-align: top;\n",
       "    }\n",
       "\n",
       "    .dataframe thead th {\n",
       "        text-align: right;\n",
       "    }\n",
       "</style>\n",
       "<table border=\"1\" class=\"dataframe\">\n",
       "  <thead>\n",
       "    <tr style=\"text-align: right;\">\n",
       "      <th></th>\n",
       "      <th>R&amp;D Spend</th>\n",
       "      <th>Administration</th>\n",
       "      <th>Marketing Spend</th>\n",
       "      <th>State</th>\n",
       "      <th>Profit</th>\n",
       "    </tr>\n",
       "  </thead>\n",
       "  <tbody>\n",
       "    <tr>\n",
       "      <td>0</td>\n",
       "      <td>165349.20</td>\n",
       "      <td>136897.80</td>\n",
       "      <td>471784.10</td>\n",
       "      <td>2</td>\n",
       "      <td>192261.83</td>\n",
       "    </tr>\n",
       "    <tr>\n",
       "      <td>1</td>\n",
       "      <td>162597.70</td>\n",
       "      <td>151377.59</td>\n",
       "      <td>443898.53</td>\n",
       "      <td>0</td>\n",
       "      <td>191792.06</td>\n",
       "    </tr>\n",
       "    <tr>\n",
       "      <td>2</td>\n",
       "      <td>153441.51</td>\n",
       "      <td>101145.55</td>\n",
       "      <td>407934.54</td>\n",
       "      <td>1</td>\n",
       "      <td>191050.39</td>\n",
       "    </tr>\n",
       "    <tr>\n",
       "      <td>3</td>\n",
       "      <td>144372.41</td>\n",
       "      <td>118671.85</td>\n",
       "      <td>383199.62</td>\n",
       "      <td>2</td>\n",
       "      <td>182901.99</td>\n",
       "    </tr>\n",
       "    <tr>\n",
       "      <td>4</td>\n",
       "      <td>142107.34</td>\n",
       "      <td>91391.77</td>\n",
       "      <td>366168.42</td>\n",
       "      <td>1</td>\n",
       "      <td>166187.94</td>\n",
       "    </tr>\n",
       "  </tbody>\n",
       "</table>\n",
       "</div>"
      ],
      "text/plain": [
       "   R&D Spend  Administration  Marketing Spend  State     Profit\n",
       "0  165349.20       136897.80        471784.10      2  192261.83\n",
       "1  162597.70       151377.59        443898.53      0  191792.06\n",
       "2  153441.51       101145.55        407934.54      1  191050.39\n",
       "3  144372.41       118671.85        383199.62      2  182901.99\n",
       "4  142107.34        91391.77        366168.42      1  166187.94"
      ]
     },
     "execution_count": 6,
     "metadata": {},
     "output_type": "execute_result"
    }
   ],
   "source": [
    "dataset.head()"
   ]
  },
  {
   "cell_type": "raw",
   "metadata": {},
   "source": [
    "calforia-0 florida-1 noida-2"
   ]
  },
  {
   "cell_type": "code",
   "execution_count": 7,
   "metadata": {},
   "outputs": [],
   "source": [
    "x=dataset.iloc[:,0:4].values\n",
    "y=dataset.iloc[:,4:5].values"
   ]
  },
  {
   "cell_type": "code",
   "execution_count": 8,
   "metadata": {},
   "outputs": [
    {
     "data": {
      "text/plain": [
       "(50, 4)"
      ]
     },
     "execution_count": 8,
     "metadata": {},
     "output_type": "execute_result"
    }
   ],
   "source": [
    "x.shape"
   ]
  },
  {
   "cell_type": "code",
   "execution_count": 9,
   "metadata": {},
   "outputs": [
    {
     "data": {
      "text/plain": [
       "(50, 1)"
      ]
     },
     "execution_count": 9,
     "metadata": {},
     "output_type": "execute_result"
    }
   ],
   "source": [
    "y.shape"
   ]
  },
  {
   "cell_type": "code",
   "execution_count": 10,
   "metadata": {},
   "outputs": [
    {
     "name": "stderr",
     "output_type": "stream",
     "text": [
      "C:\\Users\\user\\Anaconda3\\lib\\site-packages\\sklearn\\preprocessing\\_encoders.py:415: FutureWarning: The handling of integer data will change in version 0.22. Currently, the categories are determined based on the range [0, max(values)], while in the future they will be determined based on the unique values.\n",
      "If you want the future behaviour and silence this warning, you can specify \"categories='auto'\".\n",
      "In case you used a LabelEncoder before this OneHotEncoder to convert the categories to integers, then you can now use the OneHotEncoder directly.\n",
      "  warnings.warn(msg, FutureWarning)\n"
     ]
    }
   ],
   "source": [
    "from sklearn.preprocessing import OneHotEncoder\n",
    "one=OneHotEncoder()\n",
    "z=one.fit_transform(x[:,3:4]).toarray()\n",
    "x=np.delete(x,3,axis=1)\n",
    "x=np.concatenate((z,x),axis=1)"
   ]
  },
  {
   "cell_type": "code",
   "execution_count": 11,
   "metadata": {},
   "outputs": [
    {
     "data": {
      "text/plain": [
       "(50, 6)"
      ]
     },
     "execution_count": 11,
     "metadata": {},
     "output_type": "execute_result"
    }
   ],
   "source": [
    "x.shape"
   ]
  },
  {
   "cell_type": "code",
   "execution_count": 12,
   "metadata": {},
   "outputs": [],
   "source": [
    "from sklearn.model_selection import train_test_split\n",
    "x_train,x_test,y_train,y_test=train_test_split(x,y,test_size=0.2,random_state=0)"
   ]
  },
  {
   "cell_type": "code",
   "execution_count": 13,
   "metadata": {},
   "outputs": [
    {
     "data": {
      "text/plain": [
       "(40, 6)"
      ]
     },
     "execution_count": 13,
     "metadata": {},
     "output_type": "execute_result"
    }
   ],
   "source": [
    "x_train.shape"
   ]
  },
  {
   "cell_type": "code",
   "execution_count": 14,
   "metadata": {},
   "outputs": [
    {
     "data": {
      "text/plain": [
       "(10, 6)"
      ]
     },
     "execution_count": 14,
     "metadata": {},
     "output_type": "execute_result"
    }
   ],
   "source": [
    "x_test.shape"
   ]
  },
  {
   "cell_type": "code",
   "execution_count": 15,
   "metadata": {},
   "outputs": [
    {
     "data": {
      "text/plain": [
       "LinearRegression(copy_X=True, fit_intercept=True, n_jobs=None, normalize=False)"
      ]
     },
     "execution_count": 15,
     "metadata": {},
     "output_type": "execute_result"
    }
   ],
   "source": [
    "from sklearn.linear_model import LinearRegression\n",
    "mlr=LinearRegression()\n",
    "mlr.fit(x_train,y_train)"
   ]
  },
  {
   "cell_type": "code",
   "execution_count": 16,
   "metadata": {},
   "outputs": [],
   "source": [
    "#predicting the data\n",
    "y_pred=mlr.predict(x_test)"
   ]
  },
  {
   "cell_type": "code",
   "execution_count": 17,
   "metadata": {},
   "outputs": [
    {
     "data": {
      "text/plain": [
       "array([[103015.20159796],\n",
       "       [132582.27760816],\n",
       "       [132447.73845174],\n",
       "       [ 71976.09851258],\n",
       "       [178537.48221055],\n",
       "       [116161.24230166],\n",
       "       [ 67851.69209676],\n",
       "       [ 98791.73374686],\n",
       "       [113969.43533013],\n",
       "       [167921.06569551]])"
      ]
     },
     "execution_count": 17,
     "metadata": {},
     "output_type": "execute_result"
    }
   ],
   "source": [
    "y_pred"
   ]
  },
  {
   "cell_type": "code",
   "execution_count": 18,
   "metadata": {},
   "outputs": [
    {
     "data": {
      "text/plain": [
       "array([[0.0000000e+00, 1.0000000e+00, 0.0000000e+00, 6.6051520e+04,\n",
       "        1.8264556e+05, 1.1814820e+05],\n",
       "       [1.0000000e+00, 0.0000000e+00, 0.0000000e+00, 1.0067196e+05,\n",
       "        9.1790610e+04, 2.4974455e+05],\n",
       "       [0.0000000e+00, 1.0000000e+00, 0.0000000e+00, 1.0191308e+05,\n",
       "        1.1059411e+05, 2.2916095e+05],\n",
       "       [0.0000000e+00, 1.0000000e+00, 0.0000000e+00, 2.7892920e+04,\n",
       "        8.4710770e+04, 1.6447071e+05],\n",
       "       [0.0000000e+00, 1.0000000e+00, 0.0000000e+00, 1.5344151e+05,\n",
       "        1.0114555e+05, 4.0793454e+05],\n",
       "       [0.0000000e+00, 0.0000000e+00, 1.0000000e+00, 7.2107600e+04,\n",
       "        1.2786455e+05, 3.5318381e+05],\n",
       "       [0.0000000e+00, 0.0000000e+00, 1.0000000e+00, 2.0229590e+04,\n",
       "        6.5947930e+04, 1.8526510e+05],\n",
       "       [0.0000000e+00, 0.0000000e+00, 1.0000000e+00, 6.1136380e+04,\n",
       "        1.5270192e+05, 8.8218230e+04],\n",
       "       [0.0000000e+00, 1.0000000e+00, 0.0000000e+00, 7.3994560e+04,\n",
       "        1.2278275e+05, 3.0331926e+05],\n",
       "       [0.0000000e+00, 1.0000000e+00, 0.0000000e+00, 1.4210734e+05,\n",
       "        9.1391770e+04, 3.6616842e+05]])"
      ]
     },
     "execution_count": 18,
     "metadata": {},
     "output_type": "execute_result"
    }
   ],
   "source": [
    "x_test"
   ]
  },
  {
   "cell_type": "code",
   "execution_count": 19,
   "metadata": {},
   "outputs": [],
   "source": [
    "from sklearn.metrics import r2_score\n",
    "accuracy=r2_score(y_test,y_pred)"
   ]
  },
  {
   "cell_type": "code",
   "execution_count": 20,
   "metadata": {},
   "outputs": [
    {
     "data": {
      "text/plain": [
       "0.9347068473282303"
      ]
     },
     "execution_count": 20,
     "metadata": {},
     "output_type": "execute_result"
    }
   ],
   "source": [
    "accuracy"
   ]
  },
  {
   "cell_type": "code",
   "execution_count": 21,
   "metadata": {},
   "outputs": [],
   "source": [
    "#double array\n",
    "y=mlr.predict([[0,0,1,12345,12233445,123455]])"
   ]
  },
  {
   "cell_type": "code",
   "execution_count": 22,
   "metadata": {},
   "outputs": [
    {
     "data": {
      "text/plain": [
       "array([[459613.59521481]])"
      ]
     },
     "execution_count": 22,
     "metadata": {},
     "output_type": "execute_result"
    }
   ],
   "source": [
    "y"
   ]
  },
  {
   "cell_type": "code",
   "execution_count": 23,
   "metadata": {},
   "outputs": [
    {
     "data": {
      "text/plain": [
       "459613.59521481337"
      ]
     },
     "execution_count": 23,
     "metadata": {},
     "output_type": "execute_result"
    }
   ],
   "source": [
    "y[0][0]"
   ]
  },
  {
   "cell_type": "code",
   "execution_count": 25,
   "metadata": {},
   "outputs": [
    {
     "data": {
      "text/plain": [
       "<matplotlib.collections.PathCollection at 0x13b73522dc8>"
      ]
     },
     "execution_count": 25,
     "metadata": {},
     "output_type": "execute_result"
    },
    {
     "data": {
      "image/png": "[encoded data removed]",
      "text/plain": [
       "<Figure size 432x288 with 1 Axes>"
      ]
     },
     "metadata": {
      "needs_background": "light"
     },
     "output_type": "display_data"
    }
   ],
   "source": [
    "import matplotlib.pyplot as plt\n",
    "plt.scatter(x_train[:,3],y_train[:,0],color=\"red\")\n",
    "plt.scatter(x_train[:,4],y_train[:,0],color=\"blue\")\n",
    "plt.scatter(x_train[:,5],y_train[:,0],color=\"green\")"
   ]
  },
  {
   "cell_type": "code",
   "execution_count": 26,
   "metadata": {},
   "outputs": [
    {
     "data": {
      "text/plain": [
       "DecisionTreeRegressor(criterion='mse', max_depth=None, max_features=None,\n",
       "                      max_leaf_nodes=None, min_impurity_decrease=0.0,\n",
       "                      min_impurity_split=None, min_samples_leaf=1,\n",
       "                      min_samples_split=2, min_weight_fraction_leaf=0.0,\n",
       "                      presort=False, random_state=0, splitter='best')"
      ]
     },
     "execution_count": 26,
     "metadata": {},
     "output_type": "execute_result"
    }
   ],
   "source": [
    "from sklearn.tree import DecisionTreeRegressor\n",
    "dtr=DecisionTreeRegressor(random_state=0)#we are asking it to split the based on certain range and the splitting od dataset should be same hence random_state=0)\n",
    "dtr.fit(x_train,y_train)"
   ]
  },
  {
   "cell_type": "code",
   "execution_count": 27,
   "metadata": {},
   "outputs": [],
   "source": [
    "ydtr=dtr.predict(x_test)"
   ]
  },
  {
   "cell_type": "code",
   "execution_count": 28,
   "metadata": {},
   "outputs": [
    {
     "data": {
      "text/plain": [
       "array([101004.64, 141585.52, 141585.52,  78239.91, 182901.99, 107404.34,\n",
       "        69758.98,  97427.84, 108733.99, 182901.99])"
      ]
     },
     "execution_count": 28,
     "metadata": {},
     "output_type": "execute_result"
    }
   ],
   "source": [
    "ydtr"
   ]
  },
  {
   "cell_type": "code",
   "execution_count": 29,
   "metadata": {},
   "outputs": [
    {
     "data": {
      "text/plain": [
       "array([[103282.38],\n",
       "       [144259.4 ],\n",
       "       [146121.95],\n",
       "       [ 77798.83],\n",
       "       [191050.39],\n",
       "       [105008.31],\n",
       "       [ 81229.06],\n",
       "       [ 97483.56],\n",
       "       [110352.25],\n",
       "       [166187.94]])"
      ]
     },
     "execution_count": 29,
     "metadata": {},
     "output_type": "execute_result"
    }
   ],
   "source": [
    "y_test"
   ]
  },
  {
   "cell_type": "code",
   "execution_count": 30,
   "metadata": {},
   "outputs": [],
   "source": [
    "accuracydtr=r2_score(y_test,ydtr)"
   ]
  },
  {
   "cell_type": "code",
   "execution_count": 31,
   "metadata": {},
   "outputs": [
    {
     "data": {
      "text/plain": [
       "0.9594341740623319"
      ]
     },
     "execution_count": 31,
     "metadata": {},
     "output_type": "execute_result"
    }
   ],
   "source": [
    "accuracydtr#for multilinear it is 93 and for decision tree is 95"
   ]
  },
  {
   "cell_type": "code",
   "execution_count": 34,
   "metadata": {},
   "outputs": [
    {
     "data": {
      "text/plain": [
       "'digraph Tree {\\nnode [shape=box] ;\\n0 [label=\"X[3] <= 75791.363\\\\nmse = 1637470908.557\\\\nsamples = 40\\\\nvalue = 109446.447\"] ;\\n1 [label=\"X[3] <= 26152.345\\\\nmse = 647928473.775\\\\nsamples = 21\\\\nvalue = 79233.588\"] ;\\n0 -> 1 [labeldistance=2.5, labelangle=45, headlabel=\"True\"] ;\\n2 [label=\"X[3] <= 771.14\\\\nmse = 348868031.032\\\\nsamples = 8\\\\nvalue = 51723.646\"] ;\\n1 -> 2 ;\\n3 [label=\"X[5] <= 22586.529\\\\nmse = 140587463.397\\\\nsamples = 3\\\\nvalue = 30971.513\"] ;\\n2 -> 3 ;\\n4 [label=\"X[4] <= 93585.035\\\\nmse = 11855350.786\\\\nsamples = 2\\\\nvalue = 39116.57\"] ;\\n3 -> 4 ;\\n5 [label=\"mse = 0.0\\\\nsamples = 1\\\\nvalue = 35673.41\"] ;\\n4 -> 5 ;\\n6 [label=\"mse = -0.0\\\\nsamples = 1\\\\nvalue = 42559.73\"] ;\\n4 -> 6 ;\\n7 [label=\"mse = 0.0\\\\nsamples = 1\\\\nvalue = 14681.4\"] ;\\n3 -> 7 ;\\n8 [label=\"X[5] <= 222557.789\\\\nmse = 60411391.846\\\\nsamples = 5\\\\nvalue = 64174.926\"] ;\\n2 -> 8 ;\\n9 [label=\"X[5] <= 31934.446\\\\nmse = 8131419.558\\\\nsamples = 4\\\\nvalue = 67845.97\"] ;\\n8 -> 9 ;\\n10 [label=\"X[2] <= 0.5\\\\nmse = 18803.266\\\\nsamples = 2\\\\nvalue = 65063.205\"] ;\\n9 -> 10 ;\\n11 [label=\"mse = 0.0\\\\nsamples = 1\\\\nvalue = 65200.33\"] ;\\n10 -> 11 ;\\n12 [label=\"mse = 0.0\\\\nsamples = 1\\\\nvalue = 64926.08\"] ;\\n10 -> 12 ;\\n13 [label=\"X[2] <= 0.5\\\\nmse = 756473.76\\\\nsamples = 2\\\\nvalue = 70628.735\"] ;\\n9 -> 13 ;\\n14 [label=\"mse = 0.0\\\\nsamples = 1\\\\nvalue = 71498.49\"] ;\\n13 -> 14 ;\\n15 [label=\"mse = 0.0\\\\nsamples = 1\\\\nvalue = 69758.98\"] ;\\n13 -> 15 ;\\n16 [label=\"mse = 0.0\\\\nsamples = 1\\\\nvalue = 49490.75\"] ;\\n8 -> 16 ;\\n17 [label=\"X[3] <= 45041.984\\\\nmse = 79646883.192\\\\nsamples = 13\\\\nvalue = 96162.782\"] ;\\n1 -> 17 ;\\n18 [label=\"X[5] <= 186014.359\\\\nmse = 29681959.388\\\\nsamples = 4\\\\nvalue = 84975.75\"] ;\\n17 -> 18 ;\\n19 [label=\"X[5] <= 173897.484\\\\nmse = 1912481.556\\\\nsamples = 2\\\\nvalue = 79622.835\"] ;\\n18 -> 19 ;\\n20 [label=\"mse = 0.0\\\\nsamples = 1\\\\nvalue = 78239.91\"] ;\\n19 -> 20 ;\\n21 [label=\"mse = 0.0\\\\nsamples = 1\\\\nvalue = 81005.76\"] ;\\n19 -> 21 ;\\n22 [label=\"X[5] <= 199078.117\\\\nmse = 144039.226\\\\nsamples = 2\\\\nvalue = 90328.665\"] ;\\n18 -> 22 ;\\n23 [label=\"mse = 0.0\\\\nsamples = 1\\\\nvalue = 89949.14\"] ;\\n22 -> 23 ;\\n24 [label=\"mse = -0.0\\\\nsamples = 1\\\\nvalue = 90708.19\"] ;\\n22 -> 24 ;\\n25 [label=\"X[3] <= 64036.785\\\\nmse = 21510503.941\\\\nsamples = 9\\\\nvalue = 101134.797\"] ;\\n17 -> 25 ;\\n26 [label=\"X[3] <= 58744.215\\\\nmse = 1624551.226\\\\nsamples = 5\\\\nvalue = 97467.332\"] ;\\n25 -> 26 ;\\n27 [label=\"X[5] <= 208157.656\\\\nmse = 16493.603\\\\nsamples = 3\\\\nvalue = 96657.077\"] ;\\n26 -> 27 ;\\n28 [label=\"mse = 0.0\\\\nsamples = 1\\\\nvalue = 96479.51\"] ;\\n27 -> 28 ;\\n29 [label=\"X[1] <= 0.5\\\\nmse = 1092.964\\\\nsamples = 2\\\\nvalue = 96745.86\"] ;\\n27 -> 29 ;\\n30 [label=\"mse = 0.0\\\\nsamples = 1\\\\nvalue = 96712.8\"] ;\\n29 -> 30 ;\\n31 [label=\"mse = -0.0\\\\nsamples = 1\\\\nvalue = 96778.92\"] ;\\n29 -> 31 ;\\n32 [label=\"X[1] <= 0.5\\\\nmse = 1574711.266\\\\nsamples = 2\\\\nvalue = 98682.715\"] ;\\n26 -> 32 ;\\n33 [label=\"mse = 0.0\\\\nsamples = 1\\\\nvalue = 97427.84\"] ;\\n32 -> 33 ;\\n34 [label=\"mse = 0.0\\\\nsamples = 1\\\\nvalue = 99937.59\"] ;\\n32 -> 34 ;\\n35 [label=\"X[4] <= 148584.023\\\\nmse = 8538984.293\\\\nsamples = 4\\\\nvalue = 105719.128\"] ;\\n25 -> 35 ;\\n36 [label=\"X[5] <= 136006.344\\\\nmse = 1506915.774\\\\nsamples = 3\\\\nvalue = 107290.623\"] ;\\n35 -> 36 ;\\n37 [label=\"mse = 0.0\\\\nsamples = 1\\\\nvalue = 105733.54\"] ;\\n36 -> 37 ;\\n38 [label=\"X[1] <= 0.5\\\\nmse = 441992.281\\\\nsamples = 2\\\\nvalue = 108069.165\"] ;\\n36 -> 38 ;\\n39 [label=\"mse = 0.0\\\\nsamples = 1\\\\nvalue = 107404.34\"] ;\\n38 -> 39 ;\\n40 [label=\"mse = -0.0\\\\nsamples = 1\\\\nvalue = 108733.99\"] ;\\n38 -> 40 ;\\n41 [label=\"mse = 0.0\\\\nsamples = 1\\\\nvalue = 101004.64\"] ;\\n35 -> 41 ;\\n42 [label=\"X[3] <= 120242.883\\\\nmse = 607169651.856\\\\nsamples = 19\\\\nvalue = 142839.608\"] ;\\n0 -> 42 [labeldistance=2.5, labelangle=-45, headlabel=\"False\"] ;\\n43 [label=\"X[3] <= 91870.773\\\\nmse = 86691597.895\\\\nsamples = 11\\\\nvalue = 125105.337\"] ;\\n42 -> 43 ;\\n44 [label=\"X[4] <= 106574.32\\\\nmse = 45663054.902\\\\nsamples = 6\\\\nvalue = 118729.297\"] ;\\n43 -> 44 ;\\n45 [label=\"mse = 0.0\\\\nsamples = 1\\\\nvalue = 108552.04\"] ;\\n44 -> 45 ;\\n46 [label=\"X[5] <= 296792.016\\\\nmse = 29937293.1\\\\nsamples = 5\\\\nvalue = 120764.748\"] ;\\n44 -> 46 ;\\n47 [label=\"X[3] <= 82216.406\\\\nmse = 3047411.667\\\\nsamples = 3\\\\nvalue = 124678.897\"] ;\\n46 -> 47 ;\\n48 [label=\"mse = 0.0\\\\nsamples = 1\\\\nvalue = 126992.93\"] ;\\n47 -> 48 ;\\n49 [label=\"X[1] <= 0.5\\\\nmse = 555054.8\\\\nsamples = 2\\\\nvalue = 123521.88\"] ;\\n47 -> 49 ;\\n50 [label=\"mse = 0.0\\\\nsamples = 1\\\\nvalue = 122776.86\"] ;\\n49 -> 50 ;\\n51 [label=\"mse = -0.0\\\\nsamples = 1\\\\nvalue = 124266.9\"] ;\\n49 -> 51 ;\\n52 [label=\"X[3] <= 77321.664\\\\nmse = 12820016.055\\\\nsamples = 2\\\\nvalue = 114893.525\"] ;\\n46 -> 52 ;\\n53 [label=\"mse = 0.0\\\\nsamples = 1\\\\nvalue = 118474.03\"] ;\\n52 -> 53 ;\\n54 [label=\"mse = 0.0\\\\nsamples = 1\\\\nvalue = 111313.02\"] ;\\n52 -> 54 ;\\n55 [label=\"X[5] <= 251252.188\\\\nmse = 28599569.827\\\\nsamples = 5\\\\nvalue = 132756.586\"] ;\\n43 -> 55 ;\\n56 [label=\"mse = 0.0\\\\nsamples = 1\\\\nvalue = 141585.52\"] ;\\n55 -> 56 ;\\n57 [label=\"X[5] <= 272175.273\\\\nmse = 11390063.667\\\\nsamples = 4\\\\nvalue = 130549.352\"] ;\\n55 -> 57 ;\\n58 [label=\"X[4] <= 129055.953\\\\nmse = 3265925.006\\\\nsamples = 3\\\\nvalue = 132275.68\"] ;\\n57 -> 58 ;\\n59 [label=\"mse = 0.0\\\\nsamples = 1\\\\nvalue = 129917.04\"] ;\\n58 -> 59 ;\\n60 [label=\"X[0] <= 0.5\\\\nmse = 726500.522\\\\nsamples = 2\\\\nvalue = 133455.0\"] ;\\n58 -> 60 ;\\n61 [label=\"mse = 0.0\\\\nsamples = 1\\\\nvalue = 132602.65\"] ;\\n60 -> 61 ;\\n62 [label=\"mse = -0.0\\\\nsamples = 1\\\\nvalue = 134307.35\"] ;\\n60 -> 62 ;\\n63 [label=\"mse = 0.0\\\\nsamples = 1\\\\nvalue = 125370.37\"] ;\\n57 -> 63 ;\\n64 [label=\"X[3] <= 139493.93\\\\nmse = 295773693.407\\\\nsamples = 8\\\\nvalue = 167224.23\"] ;\\n42 -> 64 ;\\n65 [label=\"X[3] <= 126816.508\\\\nmse = 7511744.931\\\\nsamples = 5\\\\nvalue = 154167.592\"] ;\\n64 -> 65 ;\\n66 [label=\"X[2] <= 0.5\\\\nmse = 1502843.069\\\\nsamples = 2\\\\nvalue = 150985.865\"] ;\\n65 -> 66 ;\\n67 [label=\"mse = 0.0\\\\nsamples = 1\\\\nvalue = 149759.96\"] ;\\n66 -> 67 ;\\n68 [label=\"mse = 0.0\\\\nsamples = 1\\\\nvalue = 152211.77\"] ;\\n66 -> 68 ;\\n69 [label=\"X[2] <= 0.5\\\\nmse = 269472.059\\\\nsamples = 3\\\\nvalue = 156288.743\"] ;\\n65 -> 69 ;\\n70 [label=\"X[3] <= 132456.793\\\\nmse = 34208.352\\\\nsamples = 2\\\\nvalue = 155937.555\"] ;\\n69 -> 70 ;\\n71 [label=\"mse = 0.0\\\\nsamples = 1\\\\nvalue = 155752.6\"] ;\\n70 -> 71 ;\\n72 [label=\"mse = 0.0\\\\nsamples = 1\\\\nvalue = 156122.51\"] ;\\n70 -> 72 ;\\n73 [label=\"mse = 0.0\\\\nsamples = 1\\\\nvalue = 156991.12\"] ;\\n69 -> 73 ;\\n74 [label=\"X[5] <= 413549.078\\\\nmse = 18540070.365\\\\nsamples = 3\\\\nvalue = 188985.293\"] ;\\n64 -> 74 ;\\n75 [label=\"mse = 0.0\\\\nsamples = 1\\\\nvalue = 182901.99\"] ;\\n74 -> 75 ;\\n76 [label=\"X[3] <= 163973.453\\\\nmse = 55170.963\\\\nsamples = 2\\\\nvalue = 192026.945\"] ;\\n74 -> 76 ;\\n77 [label=\"mse = 0.0\\\\nsamples = 1\\\\nvalue = 191792.06\"] ;\\n76 -> 77 ;\\n78 [label=\"mse = -0.0\\\\nsamples = 1\\\\nvalue = 192261.83\"] ;\\n76 -> 78 ;\\n}'"
      ]
     },
     "execution_count": 34,
     "metadata": {},
     "output_type": "execute_result"
    }
   ],
   "source": [
    "from sklearn import tree\n",
    "tree.export_graphviz(dtr)\n"
   ]
  },
  {
   "cell_type": "code",
   "execution_count": 35,
   "metadata": {},
   "outputs": [
    {
     "name": "stderr",
     "output_type": "stream",
     "text": [
      "C:\\Users\\user\\Anaconda3\\lib\\site-packages\\sklearn\\externals\\six.py:31: DeprecationWarning: The module is deprecated in version 0.21 and will be removed in version 0.23 since we've dropped support for Python 2.7. Please rely on the official version of six (https://pypi.org/project/six/).\n",
      "  \"(https://pypi.org/project/six/).\", DeprecationWarning)\n"
     ]
    },
    {
     "ename": "ModuleNotFoundError",
     "evalue": "No module named 'pydotplus'",
     "output_type": "error",
     "traceback": [
      "\u001b[1;31m---------------------------------------------------------------------------\u001b[0m",
      "\u001b[1;31mModuleNotFoundError\u001b[0m                       Traceback (most recent call last)",
      "\u001b[1;32m<ipython-input-35-2338d1283493>\u001b[0m in \u001b[0;36m<module>\u001b[1;34m\u001b[0m\n\u001b[0;32m      4\u001b[0m \u001b[1;32mfrom\u001b[0m \u001b[0mIPython\u001b[0m\u001b[1;33m.\u001b[0m\u001b[0mdisplay\u001b[0m \u001b[1;32mimport\u001b[0m \u001b[0mImage\u001b[0m\u001b[1;33m\u001b[0m\u001b[1;33m\u001b[0m\u001b[0m\n\u001b[0;32m      5\u001b[0m \u001b[1;32mfrom\u001b[0m \u001b[0msklearn\u001b[0m\u001b[1;33m.\u001b[0m\u001b[0mtree\u001b[0m \u001b[1;32mimport\u001b[0m \u001b[0mexport_graphviz\u001b[0m\u001b[1;33m\u001b[0m\u001b[1;33m\u001b[0m\u001b[0m\n\u001b[1;32m----> 6\u001b[1;33m \u001b[1;32mimport\u001b[0m \u001b[0mpydotplus\u001b[0m\u001b[1;33m\u001b[0m\u001b[1;33m\u001b[0m\u001b[0m\n\u001b[0m\u001b[0;32m      7\u001b[0m \u001b[0mdot_data\u001b[0m \u001b[1;33m=\u001b[0m \u001b[0mStringIO\u001b[0m\u001b[1;33m(\u001b[0m\u001b[1;33m)\u001b[0m\u001b[1;33m\u001b[0m\u001b[1;33m\u001b[0m\u001b[0m\n\u001b[0;32m      8\u001b[0m export_graphviz(dtr, out_file=dot_data,  \n",
      "\u001b[1;31mModuleNotFoundError\u001b[0m: No module named 'pydotplus'"
     ]
    }
   ],
   "source": [
    "from sklearn import tree\n",
    "tree.export_graphviz(dtr)\n",
    "from sklearn.externals.six import StringIO  \n",
    "from IPython.display import Image  \n",
    "from sklearn.tree import export_graphviz\n",
    "import pydotplus\n",
    "dot_data = StringIO()\n",
    "export_graphviz(dtr, out_file=dot_data,  \n",
    "                filled=True, rounded=True,\n",
    "                special_characters=True)\n",
    "graph = pydotplus.graph_from_dot_data(dot_data.getvalue())  \n",
    "Image(graph.create_png())\n",
    "\n"
   ]
  },
  {
   "cell_type": "code",
   "execution_count": 36,
   "metadata": {},
   "outputs": [],
   "source": [
    "yd=dtr.predict([[1,0,0,12345,23456,6789]])"
   ]
  },
  {
   "cell_type": "code",
   "execution_count": 40,
   "metadata": {},
   "outputs": [
    {
     "data": {
      "text/plain": [
       "array([65200.33])"
      ]
     },
     "execution_count": 40,
     "metadata": {},
     "output_type": "execute_result"
    }
   ],
   "source": [
    "yd"
   ]
  },
  {
   "cell_type": "code",
   "execution_count": 41,
   "metadata": {},
   "outputs": [
    {
     "name": "stderr",
     "output_type": "stream",
     "text": [
      "C:\\Users\\user\\Anaconda3\\lib\\site-packages\\ipykernel_launcher.py:3: DataConversionWarning: A column-vector y was passed when a 1d array was expected. Please change the shape of y to (n_samples,), for example using ravel().\n",
      "  This is separate from the ipykernel package so we can avoid doing imports until\n"
     ]
    },
    {
     "data": {
      "text/plain": [
       "RandomForestRegressor(bootstrap=True, criterion='mse', max_depth=None,\n",
       "                      max_features='auto', max_leaf_nodes=None,\n",
       "                      min_impurity_decrease=0.0, min_impurity_split=None,\n",
       "                      min_samples_leaf=1, min_samples_split=2,\n",
       "                      min_weight_fraction_leaf=0.0, n_estimators=10,\n",
       "                      n_jobs=None, oob_score=False, random_state=0, verbose=0,\n",
       "                      warm_start=False)"
      ]
     },
     "execution_count": 41,
     "metadata": {},
     "output_type": "execute_result"
    }
   ],
   "source": [
    "from sklearn.ensemble import RandomForestRegressor\n",
    "rdr=RandomForestRegressor(n_estimators=10,random_state=0)#<------This is an instance<------here we are giving random splits to the data set and apply decision tree for each and calculate accordingly\n",
    "rdr.fit(x_train,y_train)"
   ]
  },
  {
   "cell_type": "code",
   "execution_count": 42,
   "metadata": {},
   "outputs": [],
   "source": [
    "yrdr=rdr.predict(x_test)"
   ]
  },
  {
   "cell_type": "code",
   "execution_count": 43,
   "metadata": {},
   "outputs": [],
   "source": [
    "accuracyran=r2_score(y_test,yrdr)"
   ]
  },
  {
   "cell_type": "code",
   "execution_count": 44,
   "metadata": {},
   "outputs": [
    {
     "data": {
      "text/plain": [
       "0.9658739721928109"
      ]
     },
     "execution_count": 44,
     "metadata": {},
     "output_type": "execute_result"
    }
   ],
   "source": [
    "accuracyran"
   ]
  },
  {
   "cell_type": "code",
   "execution_count": null,
   "metadata": {},
   "outputs": [],
   "source": []
  },
  {
   "cell_type": "code",
   "execution_count": null,
   "metadata": {},
   "outputs": [],
   "source": []
  }
 ],
 "metadata": {
  "kernelspec": {
   "display_name": "Python 3",
   "language": "python",
   "name": "python3"
  },
  "language_info": {
   "codemirror_mode": {
    "name": "ipython",
    "version": 3
   },
   "file_extension": ".py",
   "mimetype": "text/x-python",
   "name": "python",
   "nbconvert_exporter": "python",
   "pygments_lexer": "ipython3",
   "version": "3.7.4"
  }
 },
 "nbformat": 4,
 "nbformat_minor": 2
}
